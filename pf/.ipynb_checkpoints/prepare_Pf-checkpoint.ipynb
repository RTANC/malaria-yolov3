{
 "cells": [
  {
   "cell_type": "code",
   "execution_count": 1,
   "metadata": {},
   "outputs": [],
   "source": [
    "from PIL import Image\n",
    "import requests\n",
    "from io import BytesIO\n",
    "import json\n",
    "import os\n",
    "import numpy as np\n",
    "import matplotlib.pyplot as plt\n",
    "import matplotlib.patches as mpatches\n",
    "from skimage.filters import threshold_otsu\n",
    "from skimage.io import imread, imsave\n",
    "from skimage.color import rgb2gray\n",
    "from skimage.measure import label, regionprops\n",
    "from skimage.transform import rescale, resize, downscale_local_mean\n",
    "import random\n",
    "import math\n",
    "import imageio\n",
    "import imgaug as ia\n",
    "from imgaug import augmenters as iaa\n",
    "from imgaug.augmentables.bbs import BoundingBox, BoundingBoxesOnImage\n",
    "import glob\n",
    "import random\n",
    "import shutil"
   ]
  },
  {
   "cell_type": "code",
   "execution_count": 2,
   "metadata": {},
   "outputs": [
    {
     "name": "stdout",
     "output_type": "stream",
     "text": [
      "Falciparum/gt/1305121398-0001-R_S.tif\n"
     ]
    },
    {
     "name": "stderr",
     "output_type": "stream",
     "text": [
      "/data/users/g6114450078/.local/lib/python3.7/site-packages/ipykernel_launcher.py:9: UserWarning: Falciparum/gt/1305121398-0001-R_S.jpg is a low contrast image\n",
      "  if __name__ == '__main__':\n",
      "Lossy conversion from float64 to uint8. Range [0, 1]. Convert image to uint8 prior to saving to suppress this warning.\n"
     ]
    },
    {
     "name": "stdout",
     "output_type": "stream",
     "text": [
      "Falciparum/gt/1305121398-0001-R_S.jpg\n",
      "Falciparum/gt/1305121398-0003-R.png\n"
     ]
    },
    {
     "name": "stderr",
     "output_type": "stream",
     "text": [
      "/data/users/g6114450078/.local/lib/python3.7/site-packages/ipykernel_launcher.py:9: UserWarning: Falciparum/gt/1305121398-0003-R.jpg is a low contrast image\n",
      "  if __name__ == '__main__':\n",
      "Lossy conversion from float64 to uint8. Range [0, 1]. Convert image to uint8 prior to saving to suppress this warning.\n"
     ]
    },
    {
     "name": "stdout",
     "output_type": "stream",
     "text": [
      "Falciparum/gt/1305121398-0003-R.jpg\n",
      "Falciparum/gt/1305121398-0004-R.png\n"
     ]
    },
    {
     "name": "stderr",
     "output_type": "stream",
     "text": [
      "/data/users/g6114450078/.local/lib/python3.7/site-packages/ipykernel_launcher.py:9: UserWarning: Falciparum/gt/1305121398-0004-R.jpg is a low contrast image\n",
      "  if __name__ == '__main__':\n",
      "Lossy conversion from float64 to uint8. Range [0, 1]. Convert image to uint8 prior to saving to suppress this warning.\n",
      "/data/users/g6114450078/.local/lib/python3.7/site-packages/ipykernel_launcher.py:9: UserWarning: Falciparum/gt/1305121398-0005-T.jpg is a low contrast image\n",
      "  if __name__ == '__main__':\n",
      "Lossy conversion from float64 to uint8. Range [0, 1]. Convert image to uint8 prior to saving to suppress this warning.\n"
     ]
    },
    {
     "name": "stdout",
     "output_type": "stream",
     "text": [
      "Falciparum/gt/1305121398-0004-R.jpg\n",
      "Falciparum/gt/1305121398-0005-T.png\n",
      "Falciparum/gt/1305121398-0005-T.jpg\n",
      "Falciparum/gt/1305121398-0006-R.png\n"
     ]
    },
    {
     "name": "stderr",
     "output_type": "stream",
     "text": [
      "/data/users/g6114450078/.local/lib/python3.7/site-packages/ipykernel_launcher.py:9: UserWarning: Falciparum/gt/1305121398-0006-R.jpg is a low contrast image\n",
      "  if __name__ == '__main__':\n",
      "Lossy conversion from float64 to uint8. Range [0, 1]. Convert image to uint8 prior to saving to suppress this warning.\n",
      "/data/users/g6114450078/.local/lib/python3.7/site-packages/ipykernel_launcher.py:9: UserWarning: Falciparum/gt/1305121398-0007-R.jpg is a low contrast image\n",
      "  if __name__ == '__main__':\n",
      "Lossy conversion from float64 to uint8. Range [0, 1]. Convert image to uint8 prior to saving to suppress this warning.\n"
     ]
    },
    {
     "name": "stdout",
     "output_type": "stream",
     "text": [
      "Falciparum/gt/1305121398-0006-R.jpg\n",
      "Falciparum/gt/1305121398-0007-R.png\n",
      "Falciparum/gt/1305121398-0007-R.jpg\n",
      "Falciparum/gt/1305121398-0008-R.png\n"
     ]
    },
    {
     "name": "stderr",
     "output_type": "stream",
     "text": [
      "/data/users/g6114450078/.local/lib/python3.7/site-packages/ipykernel_launcher.py:9: UserWarning: Falciparum/gt/1305121398-0008-R.jpg is a low contrast image\n",
      "  if __name__ == '__main__':\n",
      "Lossy conversion from float64 to uint8. Range [0, 1]. Convert image to uint8 prior to saving to suppress this warning.\n",
      "/data/users/g6114450078/.local/lib/python3.7/site-packages/ipykernel_launcher.py:9: UserWarning: Falciparum/gt/1305121398-0010-S.jpg is a low contrast image\n",
      "  if __name__ == '__main__':\n",
      "Lossy conversion from float64 to uint8. Range [0, 1]. Convert image to uint8 prior to saving to suppress this warning.\n"
     ]
    },
    {
     "name": "stdout",
     "output_type": "stream",
     "text": [
      "Falciparum/gt/1305121398-0008-R.jpg\n",
      "Falciparum/gt/1305121398-0010-S.tif\n",
      "Falciparum/gt/1305121398-0010-S.jpg\n",
      "Falciparum/gt/1305121398-0011-S.tif\n"
     ]
    },
    {
     "name": "stderr",
     "output_type": "stream",
     "text": [
      "/data/users/g6114450078/.local/lib/python3.7/site-packages/ipykernel_launcher.py:9: UserWarning: Falciparum/gt/1305121398-0011-S.jpg is a low contrast image\n",
      "  if __name__ == '__main__':\n",
      "Lossy conversion from float64 to uint8. Range [0, 1]. Convert image to uint8 prior to saving to suppress this warning.\n",
      "/data/users/g6114450078/.local/lib/python3.7/site-packages/ipykernel_launcher.py:9: UserWarning: Falciparum/gt/1305121398-0012-S.jpg is a low contrast image\n",
      "  if __name__ == '__main__':\n",
      "Lossy conversion from float64 to uint8. Range [0, 1]. Convert image to uint8 prior to saving to suppress this warning.\n"
     ]
    },
    {
     "name": "stdout",
     "output_type": "stream",
     "text": [
      "Falciparum/gt/1305121398-0011-S.jpg\n",
      "Falciparum/gt/1305121398-0012-S.tif\n",
      "Falciparum/gt/1305121398-0012-S.jpg\n",
      "Falciparum/gt/1305121398-0013-S.tif\n"
     ]
    },
    {
     "name": "stderr",
     "output_type": "stream",
     "text": [
      "/data/users/g6114450078/.local/lib/python3.7/site-packages/ipykernel_launcher.py:9: UserWarning: Falciparum/gt/1305121398-0013-S.jpg is a low contrast image\n",
      "  if __name__ == '__main__':\n",
      "Lossy conversion from float64 to uint8. Range [0, 1]. Convert image to uint8 prior to saving to suppress this warning.\n",
      "/data/users/g6114450078/.local/lib/python3.7/site-packages/ipykernel_launcher.py:9: UserWarning: Falciparum/gt/1305121398-0014-S.jpg is a low contrast image\n",
      "  if __name__ == '__main__':\n",
      "Lossy conversion from float64 to uint8. Range [0, 1]. Convert image to uint8 prior to saving to suppress this warning.\n"
     ]
    },
    {
     "name": "stdout",
     "output_type": "stream",
     "text": [
      "Falciparum/gt/1305121398-0013-S.jpg\n",
      "Falciparum/gt/1305121398-0014-S.tif\n",
      "Falciparum/gt/1305121398-0014-S.jpg\n",
      "Falciparum/gt/1305121398-0015-S.tif\n"
     ]
    },
    {
     "name": "stderr",
     "output_type": "stream",
     "text": [
      "/data/users/g6114450078/.local/lib/python3.7/site-packages/ipykernel_launcher.py:9: UserWarning: Falciparum/gt/1305121398-0015-S.jpg is a low contrast image\n",
      "  if __name__ == '__main__':\n",
      "Lossy conversion from float64 to uint8. Range [0, 1]. Convert image to uint8 prior to saving to suppress this warning.\n",
      "/data/users/g6114450078/.local/lib/python3.7/site-packages/ipykernel_launcher.py:9: UserWarning: Falciparum/gt/1305121398-0016-T.jpg is a low contrast image\n",
      "  if __name__ == '__main__':\n",
      "Lossy conversion from float64 to uint8. Range [0, 1]. Convert image to uint8 prior to saving to suppress this warning.\n"
     ]
    },
    {
     "name": "stdout",
     "output_type": "stream",
     "text": [
      "Falciparum/gt/1305121398-0015-S.jpg\n",
      "Falciparum/gt/1305121398-0016-T.tif\n",
      "Falciparum/gt/1305121398-0016-T.jpg\n",
      "Falciparum/gt/1305121398-0017-R.png\n"
     ]
    },
    {
     "name": "stderr",
     "output_type": "stream",
     "text": [
      "/data/users/g6114450078/.local/lib/python3.7/site-packages/ipykernel_launcher.py:9: UserWarning: Falciparum/gt/1305121398-0017-R.jpg is a low contrast image\n",
      "  if __name__ == '__main__':\n",
      "Lossy conversion from float64 to uint8. Range [0, 1]. Convert image to uint8 prior to saving to suppress this warning.\n",
      "/data/users/g6114450078/.local/lib/python3.7/site-packages/ipykernel_launcher.py:9: UserWarning: Falciparum/gt/1305121398-0018-S.jpg is a low contrast image\n",
      "  if __name__ == '__main__':\n",
      "Lossy conversion from float64 to uint8. Range [0, 1]. Convert image to uint8 prior to saving to suppress this warning.\n"
     ]
    },
    {
     "name": "stdout",
     "output_type": "stream",
     "text": [
      "Falciparum/gt/1305121398-0017-R.jpg\n",
      "Falciparum/gt/1305121398-0018-S.tif\n",
      "Falciparum/gt/1305121398-0018-S.jpg\n",
      "Falciparum/gt/1305121398-0019-R.png\n"
     ]
    },
    {
     "name": "stderr",
     "output_type": "stream",
     "text": [
      "/data/users/g6114450078/.local/lib/python3.7/site-packages/ipykernel_launcher.py:9: UserWarning: Falciparum/gt/1305121398-0019-R.jpg is a low contrast image\n",
      "  if __name__ == '__main__':\n",
      "Lossy conversion from float64 to uint8. Range [0, 1]. Convert image to uint8 prior to saving to suppress this warning.\n",
      "/data/users/g6114450078/.local/lib/python3.7/site-packages/ipykernel_launcher.py:9: UserWarning: Falciparum/gt/1305121398-0020-S.jpg is a low contrast image\n",
      "  if __name__ == '__main__':\n",
      "Lossy conversion from float64 to uint8. Range [0, 1]. Convert image to uint8 prior to saving to suppress this warning.\n"
     ]
    },
    {
     "name": "stdout",
     "output_type": "stream",
     "text": [
      "Falciparum/gt/1305121398-0019-R.jpg\n",
      "Falciparum/gt/1305121398-0020-S.tif\n",
      "Falciparum/gt/1305121398-0020-S.jpg\n",
      "Falciparum/gt/1305121398-0021-S.tif\n"
     ]
    },
    {
     "name": "stderr",
     "output_type": "stream",
     "text": [
      "/data/users/g6114450078/.local/lib/python3.7/site-packages/ipykernel_launcher.py:9: UserWarning: Falciparum/gt/1305121398-0021-S.jpg is a low contrast image\n",
      "  if __name__ == '__main__':\n",
      "Lossy conversion from float64 to uint8. Range [0, 1]. Convert image to uint8 prior to saving to suppress this warning.\n",
      "/data/users/g6114450078/.local/lib/python3.7/site-packages/ipykernel_launcher.py:9: UserWarning: Falciparum/gt/1305121398-0022-S.jpg is a low contrast image\n",
      "  if __name__ == '__main__':\n",
      "Lossy conversion from float64 to uint8. Range [0, 1]. Convert image to uint8 prior to saving to suppress this warning.\n"
     ]
    },
    {
     "name": "stdout",
     "output_type": "stream",
     "text": [
      "Falciparum/gt/1305121398-0021-S.jpg\n",
      "Falciparum/gt/1305121398-0022-S.tif\n",
      "Falciparum/gt/1305121398-0022-S.jpg\n",
      "Falciparum/gt/1307210661-0001-R.png\n"
     ]
    },
    {
     "name": "stderr",
     "output_type": "stream",
     "text": [
      "Lossy conversion from float64 to uint8. Range [0, 1]. Convert image to uint8 prior to saving to suppress this warning.\n",
      "Lossy conversion from float64 to uint8. Range [0, 1]. Convert image to uint8 prior to saving to suppress this warning.\n"
     ]
    },
    {
     "name": "stdout",
     "output_type": "stream",
     "text": [
      "Falciparum/gt/1307210661-0001-R.jpg\n",
      "Falciparum/gt/1307210661-0002-R.png\n",
      "Falciparum/gt/1307210661-0002-R.jpg\n",
      "Falciparum/gt/1307210661-0003-R.png\n"
     ]
    },
    {
     "name": "stderr",
     "output_type": "stream",
     "text": [
      "Lossy conversion from float64 to uint8. Range [0, 1]. Convert image to uint8 prior to saving to suppress this warning.\n",
      "Lossy conversion from float64 to uint8. Range [0, 1]. Convert image to uint8 prior to saving to suppress this warning.\n"
     ]
    },
    {
     "name": "stdout",
     "output_type": "stream",
     "text": [
      "Falciparum/gt/1307210661-0003-R.jpg\n",
      "Falciparum/gt/1307210661-0004-R.png\n",
      "Falciparum/gt/1307210661-0004-R.jpg\n",
      "Falciparum/gt/1307210661-0005-R.png\n"
     ]
    },
    {
     "name": "stderr",
     "output_type": "stream",
     "text": [
      "Lossy conversion from float64 to uint8. Range [0, 1]. Convert image to uint8 prior to saving to suppress this warning.\n",
      "Lossy conversion from float64 to uint8. Range [0, 1]. Convert image to uint8 prior to saving to suppress this warning.\n"
     ]
    },
    {
     "name": "stdout",
     "output_type": "stream",
     "text": [
      "Falciparum/gt/1307210661-0005-R.jpg\n",
      "Falciparum/gt/1307210661-0006-R.png\n",
      "Falciparum/gt/1307210661-0006-R.jpg\n",
      "Falciparum/gt/1307210661-0007-R.png\n"
     ]
    },
    {
     "name": "stderr",
     "output_type": "stream",
     "text": [
      "Lossy conversion from float64 to uint8. Range [0, 1]. Convert image to uint8 prior to saving to suppress this warning.\n",
      "Lossy conversion from float64 to uint8. Range [0, 1]. Convert image to uint8 prior to saving to suppress this warning.\n"
     ]
    },
    {
     "name": "stdout",
     "output_type": "stream",
     "text": [
      "Falciparum/gt/1307210661-0007-R.jpg\n",
      "Falciparum/gt/1307210661-0008-R.png\n",
      "Falciparum/gt/1307210661-0008-R.jpg\n",
      "Falciparum/gt/1307210661-0009-R.png\n"
     ]
    },
    {
     "name": "stderr",
     "output_type": "stream",
     "text": [
      "/data/users/g6114450078/.local/lib/python3.7/site-packages/ipykernel_launcher.py:9: UserWarning: Falciparum/gt/1307210661-0009-R.jpg is a low contrast image\n",
      "  if __name__ == '__main__':\n",
      "Lossy conversion from float64 to uint8. Range [0, 1]. Convert image to uint8 prior to saving to suppress this warning.\n",
      "Lossy conversion from float64 to uint8. Range [0, 1]. Convert image to uint8 prior to saving to suppress this warning.\n"
     ]
    },
    {
     "name": "stdout",
     "output_type": "stream",
     "text": [
      "Falciparum/gt/1307210661-0009-R.jpg\n",
      "Falciparum/gt/1307210661-0010-R.png\n",
      "Falciparum/gt/1307210661-0010-R.jpg\n",
      "Falciparum/gt/1401063467-0001-S.tif\n"
     ]
    },
    {
     "name": "stderr",
     "output_type": "stream",
     "text": [
      "/data/users/g6114450078/.local/lib/python3.7/site-packages/ipykernel_launcher.py:9: UserWarning: Falciparum/gt/1401063467-0001-S.jpg is a low contrast image\n",
      "  if __name__ == '__main__':\n",
      "Lossy conversion from float64 to uint8. Range [0, 1]. Convert image to uint8 prior to saving to suppress this warning.\n",
      "/data/users/g6114450078/.local/lib/python3.7/site-packages/ipykernel_launcher.py:9: UserWarning: Falciparum/gt/1401063467-0002-T.jpg is a low contrast image\n",
      "  if __name__ == '__main__':\n",
      "Lossy conversion from float64 to uint8. Range [0, 1]. Convert image to uint8 prior to saving to suppress this warning.\n"
     ]
    },
    {
     "name": "stdout",
     "output_type": "stream",
     "text": [
      "Falciparum/gt/1401063467-0001-S.jpg\n",
      "Falciparum/gt/1401063467-0002-T.tif\n",
      "Falciparum/gt/1401063467-0002-T.jpg\n",
      "Falciparum/gt/1401063467-0003-T.tif\n"
     ]
    },
    {
     "name": "stderr",
     "output_type": "stream",
     "text": [
      "/data/users/g6114450078/.local/lib/python3.7/site-packages/ipykernel_launcher.py:9: UserWarning: Falciparum/gt/1401063467-0003-T.jpg is a low contrast image\n",
      "  if __name__ == '__main__':\n",
      "Lossy conversion from float64 to uint8. Range [0, 1]. Convert image to uint8 prior to saving to suppress this warning.\n",
      "/data/users/g6114450078/.local/lib/python3.7/site-packages/ipykernel_launcher.py:9: UserWarning: Falciparum/gt/1401063467-0004-R.jpg is a low contrast image\n",
      "  if __name__ == '__main__':\n",
      "Lossy conversion from float64 to uint8. Range [0, 1]. Convert image to uint8 prior to saving to suppress this warning.\n"
     ]
    },
    {
     "name": "stdout",
     "output_type": "stream",
     "text": [
      "Falciparum/gt/1401063467-0003-T.jpg\n",
      "Falciparum/gt/1401063467-0004-R.png\n",
      "Falciparum/gt/1401063467-0004-R.jpg\n",
      "Falciparum/gt/1401063467-0005-T.tif\n"
     ]
    },
    {
     "name": "stderr",
     "output_type": "stream",
     "text": [
      "/data/users/g6114450078/.local/lib/python3.7/site-packages/ipykernel_launcher.py:9: UserWarning: Falciparum/gt/1401063467-0005-T.jpg is a low contrast image\n",
      "  if __name__ == '__main__':\n",
      "Lossy conversion from float64 to uint8. Range [0, 1]. Convert image to uint8 prior to saving to suppress this warning.\n",
      "/data/users/g6114450078/.local/lib/python3.7/site-packages/ipykernel_launcher.py:9: UserWarning: Falciparum/gt/1401063467-0006-T.jpg is a low contrast image\n",
      "  if __name__ == '__main__':\n",
      "Lossy conversion from float64 to uint8. Range [0, 1]. Convert image to uint8 prior to saving to suppress this warning.\n"
     ]
    },
    {
     "name": "stdout",
     "output_type": "stream",
     "text": [
      "Falciparum/gt/1401063467-0005-T.jpg\n",
      "Falciparum/gt/1401063467-0006-T.tif\n",
      "Falciparum/gt/1401063467-0006-T.jpg\n",
      "Falciparum/gt/1401063467-0007-S.tif\n"
     ]
    },
    {
     "name": "stderr",
     "output_type": "stream",
     "text": [
      "/data/users/g6114450078/.local/lib/python3.7/site-packages/ipykernel_launcher.py:9: UserWarning: Falciparum/gt/1401063467-0007-S.jpg is a low contrast image\n",
      "  if __name__ == '__main__':\n",
      "Lossy conversion from float64 to uint8. Range [0, 1]. Convert image to uint8 prior to saving to suppress this warning.\n",
      "/data/users/g6114450078/.local/lib/python3.7/site-packages/ipykernel_launcher.py:9: UserWarning: Falciparum/gt/1401063467-0008-S.jpg is a low contrast image\n",
      "  if __name__ == '__main__':\n",
      "Lossy conversion from float64 to uint8. Range [0, 1]. Convert image to uint8 prior to saving to suppress this warning.\n"
     ]
    },
    {
     "name": "stdout",
     "output_type": "stream",
     "text": [
      "Falciparum/gt/1401063467-0007-S.jpg\n",
      "Falciparum/gt/1401063467-0008-S.tif\n",
      "Falciparum/gt/1401063467-0008-S.jpg\n",
      "Falciparum/gt/1401063467-0009-T.tif\n"
     ]
    },
    {
     "name": "stderr",
     "output_type": "stream",
     "text": [
      "/data/users/g6114450078/.local/lib/python3.7/site-packages/ipykernel_launcher.py:9: UserWarning: Falciparum/gt/1401063467-0009-T.jpg is a low contrast image\n",
      "  if __name__ == '__main__':\n",
      "Lossy conversion from float64 to uint8. Range [0, 1]. Convert image to uint8 prior to saving to suppress this warning.\n",
      "/data/users/g6114450078/.local/lib/python3.7/site-packages/ipykernel_launcher.py:9: UserWarning: Falciparum/gt/1401063467-0010-T.jpg is a low contrast image\n",
      "  if __name__ == '__main__':\n",
      "Lossy conversion from float64 to uint8. Range [0, 1]. Convert image to uint8 prior to saving to suppress this warning.\n"
     ]
    },
    {
     "name": "stdout",
     "output_type": "stream",
     "text": [
      "Falciparum/gt/1401063467-0009-T.jpg\n",
      "Falciparum/gt/1401063467-0010-T.tif\n",
      "Falciparum/gt/1401063467-0010-T.jpg\n",
      "Falciparum/gt/1401063467-0011-S.tif\n"
     ]
    },
    {
     "name": "stderr",
     "output_type": "stream",
     "text": [
      "/data/users/g6114450078/.local/lib/python3.7/site-packages/ipykernel_launcher.py:9: UserWarning: Falciparum/gt/1401063467-0011-S.jpg is a low contrast image\n",
      "  if __name__ == '__main__':\n",
      "Lossy conversion from float64 to uint8. Range [0, 1]. Convert image to uint8 prior to saving to suppress this warning.\n",
      "/data/users/g6114450078/.local/lib/python3.7/site-packages/ipykernel_launcher.py:9: UserWarning: Falciparum/gt/1401063467-0012-S.jpg is a low contrast image\n",
      "  if __name__ == '__main__':\n",
      "Lossy conversion from float64 to uint8. Range [0, 1]. Convert image to uint8 prior to saving to suppress this warning.\n"
     ]
    },
    {
     "name": "stdout",
     "output_type": "stream",
     "text": [
      "Falciparum/gt/1401063467-0011-S.jpg\n",
      "Falciparum/gt/1401063467-0012-S.tif\n",
      "Falciparum/gt/1401063467-0012-S.jpg\n",
      "Falciparum/gt/1401063467-0013-T.tif\n"
     ]
    },
    {
     "name": "stderr",
     "output_type": "stream",
     "text": [
      "/data/users/g6114450078/.local/lib/python3.7/site-packages/ipykernel_launcher.py:9: UserWarning: Falciparum/gt/1401063467-0013-T.jpg is a low contrast image\n",
      "  if __name__ == '__main__':\n",
      "Lossy conversion from float64 to uint8. Range [0, 1]. Convert image to uint8 prior to saving to suppress this warning.\n",
      "Lossy conversion from float64 to uint8. Range [0, 1]. Convert image to uint8 prior to saving to suppress this warning.\n"
     ]
    },
    {
     "name": "stdout",
     "output_type": "stream",
     "text": [
      "Falciparum/gt/1401063467-0013-T.jpg\n",
      "Falciparum/gt/1405022890-0001-R.png\n",
      "Falciparum/gt/1405022890-0001-R.jpg\n",
      "Falciparum/gt/1405022890-0002-R.png\n"
     ]
    },
    {
     "name": "stderr",
     "output_type": "stream",
     "text": [
      "Lossy conversion from float64 to uint8. Range [0, 1]. Convert image to uint8 prior to saving to suppress this warning.\n",
      "Lossy conversion from float64 to uint8. Range [0, 1]. Convert image to uint8 prior to saving to suppress this warning.\n"
     ]
    },
    {
     "name": "stdout",
     "output_type": "stream",
     "text": [
      "Falciparum/gt/1405022890-0002-R.jpg\n",
      "Falciparum/gt/1405022890-0003-R.png\n",
      "Falciparum/gt/1405022890-0003-R.jpg\n",
      "Falciparum/gt/1405022890-0004-R.png\n"
     ]
    },
    {
     "name": "stderr",
     "output_type": "stream",
     "text": [
      "Lossy conversion from float64 to uint8. Range [0, 1]. Convert image to uint8 prior to saving to suppress this warning.\n"
     ]
    },
    {
     "name": "stdout",
     "output_type": "stream",
     "text": [
      "Falciparum/gt/1405022890-0004-R.jpg\n",
      "Falciparum/gt/1405022890-0005-R.png\n"
     ]
    },
    {
     "name": "stderr",
     "output_type": "stream",
     "text": [
      "Lossy conversion from float64 to uint8. Range [0, 1]. Convert image to uint8 prior to saving to suppress this warning.\n",
      "Lossy conversion from float64 to uint8. Range [0, 1]. Convert image to uint8 prior to saving to suppress this warning.\n"
     ]
    },
    {
     "name": "stdout",
     "output_type": "stream",
     "text": [
      "Falciparum/gt/1405022890-0005-R.jpg\n",
      "Falciparum/gt/1405022890-0006-R.png\n"
     ]
    },
    {
     "name": "stderr",
     "output_type": "stream",
     "text": [
      "/data/users/g6114450078/.local/lib/python3.7/site-packages/ipykernel_launcher.py:9: UserWarning: Falciparum/gt/1408161544-0001-S_R.jpg is a low contrast image\n",
      "  if __name__ == '__main__':\n",
      "Lossy conversion from float64 to uint8. Range [0, 1]. Convert image to uint8 prior to saving to suppress this warning.\n"
     ]
    },
    {
     "name": "stdout",
     "output_type": "stream",
     "text": [
      "Falciparum/gt/1405022890-0006-R.jpg\n",
      "Falciparum/gt/1408161544-0001-S_R.tif\n"
     ]
    },
    {
     "name": "stderr",
     "output_type": "stream",
     "text": [
      "/data/users/g6114450078/.local/lib/python3.7/site-packages/ipykernel_launcher.py:9: UserWarning: Falciparum/gt/1408161544-0002-R_S.jpg is a low contrast image\n",
      "  if __name__ == '__main__':\n",
      "Lossy conversion from float64 to uint8. Range [0, 1]. Convert image to uint8 prior to saving to suppress this warning.\n"
     ]
    },
    {
     "name": "stdout",
     "output_type": "stream",
     "text": [
      "Falciparum/gt/1408161544-0001-S_R.jpg\n",
      "Falciparum/gt/1408161544-0002-R_S.tif\n"
     ]
    },
    {
     "name": "stderr",
     "output_type": "stream",
     "text": [
      "/data/users/g6114450078/.local/lib/python3.7/site-packages/ipykernel_launcher.py:9: UserWarning: Falciparum/gt/1408161544-0003-R_S.jpg is a low contrast image\n",
      "  if __name__ == '__main__':\n",
      "Lossy conversion from float64 to uint8. Range [0, 1]. Convert image to uint8 prior to saving to suppress this warning.\n"
     ]
    },
    {
     "name": "stdout",
     "output_type": "stream",
     "text": [
      "Falciparum/gt/1408161544-0002-R_S.jpg\n",
      "Falciparum/gt/1408161544-0003-R_S.tif\n",
      "Falciparum/gt/1408161544-0003-R_S.jpg\n",
      "Falciparum/gt/1408290968-0001-R.png\n"
     ]
    },
    {
     "name": "stderr",
     "output_type": "stream",
     "text": [
      "/data/users/g6114450078/.local/lib/python3.7/site-packages/ipykernel_launcher.py:9: UserWarning: Falciparum/gt/1408290968-0001-R.jpg is a low contrast image\n",
      "  if __name__ == '__main__':\n",
      "Lossy conversion from float64 to uint8. Range [0, 1]. Convert image to uint8 prior to saving to suppress this warning.\n",
      "/data/users/g6114450078/.local/lib/python3.7/site-packages/ipykernel_launcher.py:9: UserWarning: Falciparum/gt/1408290968-0002-R.jpg is a low contrast image\n",
      "  if __name__ == '__main__':\n",
      "Lossy conversion from float64 to uint8. Range [0, 1]. Convert image to uint8 prior to saving to suppress this warning.\n"
     ]
    },
    {
     "name": "stdout",
     "output_type": "stream",
     "text": [
      "Falciparum/gt/1408290968-0001-R.jpg\n",
      "Falciparum/gt/1408290968-0002-R.png\n",
      "Falciparum/gt/1408290968-0002-R.jpg\n",
      "Falciparum/gt/1408290968-0003-R.png\n"
     ]
    },
    {
     "name": "stderr",
     "output_type": "stream",
     "text": [
      "/data/users/g6114450078/.local/lib/python3.7/site-packages/ipykernel_launcher.py:9: UserWarning: Falciparum/gt/1408290968-0003-R.jpg is a low contrast image\n",
      "  if __name__ == '__main__':\n",
      "Lossy conversion from float64 to uint8. Range [0, 1]. Convert image to uint8 prior to saving to suppress this warning.\n",
      "/data/users/g6114450078/.local/lib/python3.7/site-packages/ipykernel_launcher.py:9: UserWarning: Falciparum/gt/1409171742-0001-R.jpg is a low contrast image\n",
      "  if __name__ == '__main__':\n",
      "Lossy conversion from float64 to uint8. Range [0, 1]. Convert image to uint8 prior to saving to suppress this warning.\n"
     ]
    },
    {
     "name": "stdout",
     "output_type": "stream",
     "text": [
      "Falciparum/gt/1408290968-0003-R.jpg\n",
      "Falciparum/gt/1409171742-0001-R.png\n",
      "Falciparum/gt/1409171742-0001-R.jpg\n",
      "Falciparum/gt/1409171742-0002-R.png\n"
     ]
    },
    {
     "name": "stderr",
     "output_type": "stream",
     "text": [
      "/data/users/g6114450078/.local/lib/python3.7/site-packages/ipykernel_launcher.py:9: UserWarning: Falciparum/gt/1409171742-0002-R.jpg is a low contrast image\n",
      "  if __name__ == '__main__':\n",
      "Lossy conversion from float64 to uint8. Range [0, 1]. Convert image to uint8 prior to saving to suppress this warning.\n",
      "/data/users/g6114450078/.local/lib/python3.7/site-packages/ipykernel_launcher.py:9: UserWarning: Falciparum/gt/1409171742-0003-R.jpg is a low contrast image\n",
      "  if __name__ == '__main__':\n",
      "Lossy conversion from float64 to uint8. Range [0, 1]. Convert image to uint8 prior to saving to suppress this warning.\n"
     ]
    },
    {
     "name": "stdout",
     "output_type": "stream",
     "text": [
      "Falciparum/gt/1409171742-0002-R.jpg\n",
      "Falciparum/gt/1409171742-0003-R.png\n"
     ]
    },
    {
     "name": "stderr",
     "output_type": "stream",
     "text": [
      "/data/users/g6114450078/.local/lib/python3.7/site-packages/ipykernel_launcher.py:9: UserWarning: Falciparum/gt/1409171742-0004-R.jpg is a low contrast image\n",
      "  if __name__ == '__main__':\n",
      "Lossy conversion from float64 to uint8. Range [0, 1]. Convert image to uint8 prior to saving to suppress this warning.\n"
     ]
    },
    {
     "name": "stdout",
     "output_type": "stream",
     "text": [
      "Falciparum/gt/1409171742-0003-R.jpg\n",
      "Falciparum/gt/1409171742-0004-R.png\n"
     ]
    },
    {
     "name": "stderr",
     "output_type": "stream",
     "text": [
      "/data/users/g6114450078/.local/lib/python3.7/site-packages/ipykernel_launcher.py:9: UserWarning: Falciparum/gt/1409171742-0005-R.jpg is a low contrast image\n",
      "  if __name__ == '__main__':\n",
      "Lossy conversion from float64 to uint8. Range [0, 1]. Convert image to uint8 prior to saving to suppress this warning.\n"
     ]
    },
    {
     "name": "stdout",
     "output_type": "stream",
     "text": [
      "Falciparum/gt/1409171742-0004-R.jpg\n",
      "Falciparum/gt/1409171742-0005-R.png\n"
     ]
    },
    {
     "name": "stderr",
     "output_type": "stream",
     "text": [
      "/data/users/g6114450078/.local/lib/python3.7/site-packages/ipykernel_launcher.py:9: UserWarning: Falciparum/gt/1409171742-0006-R.jpg is a low contrast image\n",
      "  if __name__ == '__main__':\n",
      "Lossy conversion from float64 to uint8. Range [0, 1]. Convert image to uint8 prior to saving to suppress this warning.\n"
     ]
    },
    {
     "name": "stdout",
     "output_type": "stream",
     "text": [
      "Falciparum/gt/1409171742-0005-R.jpg\n",
      "Falciparum/gt/1409171742-0006-R.png\n",
      "Falciparum/gt/1409171742-0006-R.jpg\n",
      "Falciparum/gt/1409171742-0007-R.png\n"
     ]
    },
    {
     "name": "stderr",
     "output_type": "stream",
     "text": [
      "/data/users/g6114450078/.local/lib/python3.7/site-packages/ipykernel_launcher.py:9: UserWarning: Falciparum/gt/1409171742-0007-R.jpg is a low contrast image\n",
      "  if __name__ == '__main__':\n",
      "Lossy conversion from float64 to uint8. Range [0, 1]. Convert image to uint8 prior to saving to suppress this warning.\n",
      "/data/users/g6114450078/.local/lib/python3.7/site-packages/ipykernel_launcher.py:9: UserWarning: Falciparum/gt/1409171742-0008-R.jpg is a low contrast image\n",
      "  if __name__ == '__main__':\n",
      "Lossy conversion from float64 to uint8. Range [0, 1]. Convert image to uint8 prior to saving to suppress this warning.\n"
     ]
    },
    {
     "name": "stdout",
     "output_type": "stream",
     "text": [
      "Falciparum/gt/1409171742-0007-R.jpg\n",
      "Falciparum/gt/1409171742-0008-R.png\n"
     ]
    },
    {
     "name": "stderr",
     "output_type": "stream",
     "text": [
      "Lossy conversion from float64 to uint8. Range [0, 1]. Convert image to uint8 prior to saving to suppress this warning.\n"
     ]
    },
    {
     "name": "stdout",
     "output_type": "stream",
     "text": [
      "Falciparum/gt/1409171742-0008-R.jpg\n",
      "Falciparum/gt/1409171742-0009-R.png\n"
     ]
    },
    {
     "name": "stderr",
     "output_type": "stream",
     "text": [
      "/data/users/g6114450078/.local/lib/python3.7/site-packages/ipykernel_launcher.py:9: UserWarning: Falciparum/gt/1409171742-0010-R.jpg is a low contrast image\n",
      "  if __name__ == '__main__':\n",
      "Lossy conversion from float64 to uint8. Range [0, 1]. Convert image to uint8 prior to saving to suppress this warning.\n"
     ]
    },
    {
     "name": "stdout",
     "output_type": "stream",
     "text": [
      "Falciparum/gt/1409171742-0009-R.jpg\n",
      "Falciparum/gt/1409171742-0010-R.png\n"
     ]
    },
    {
     "name": "stderr",
     "output_type": "stream",
     "text": [
      "/data/users/g6114450078/.local/lib/python3.7/site-packages/ipykernel_launcher.py:9: UserWarning: Falciparum/gt/1409191647-0001-R.jpg is a low contrast image\n",
      "  if __name__ == '__main__':\n",
      "Lossy conversion from float64 to uint8. Range [0, 1]. Convert image to uint8 prior to saving to suppress this warning.\n"
     ]
    },
    {
     "name": "stdout",
     "output_type": "stream",
     "text": [
      "Falciparum/gt/1409171742-0010-R.jpg\n",
      "Falciparum/gt/1409191647-0001-R.png\n",
      "Falciparum/gt/1409191647-0001-R.jpg\n",
      "Falciparum/gt/1409191647-0002-R.png\n"
     ]
    },
    {
     "name": "stderr",
     "output_type": "stream",
     "text": [
      "/data/users/g6114450078/.local/lib/python3.7/site-packages/ipykernel_launcher.py:9: UserWarning: Falciparum/gt/1409191647-0002-R.jpg is a low contrast image\n",
      "  if __name__ == '__main__':\n",
      "Lossy conversion from float64 to uint8. Range [0, 1]. Convert image to uint8 prior to saving to suppress this warning.\n",
      "/data/users/g6114450078/.local/lib/python3.7/site-packages/ipykernel_launcher.py:9: UserWarning: Falciparum/gt/1409191647-0003-R.jpg is a low contrast image\n",
      "  if __name__ == '__main__':\n",
      "Lossy conversion from float64 to uint8. Range [0, 1]. Convert image to uint8 prior to saving to suppress this warning.\n"
     ]
    },
    {
     "name": "stdout",
     "output_type": "stream",
     "text": [
      "Falciparum/gt/1409191647-0002-R.jpg\n",
      "Falciparum/gt/1409191647-0003-R.png\n",
      "Falciparum/gt/1409191647-0003-R.jpg\n",
      "Falciparum/gt/1409191647-0004-R.png\n"
     ]
    },
    {
     "name": "stderr",
     "output_type": "stream",
     "text": [
      "/data/users/g6114450078/.local/lib/python3.7/site-packages/ipykernel_launcher.py:9: UserWarning: Falciparum/gt/1409191647-0004-R.jpg is a low contrast image\n",
      "  if __name__ == '__main__':\n",
      "Lossy conversion from float64 to uint8. Range [0, 1]. Convert image to uint8 prior to saving to suppress this warning.\n",
      "/data/users/g6114450078/.local/lib/python3.7/site-packages/ipykernel_launcher.py:9: UserWarning: Falciparum/gt/1409191647-0005-R.jpg is a low contrast image\n",
      "  if __name__ == '__main__':\n",
      "Lossy conversion from float64 to uint8. Range [0, 1]. Convert image to uint8 prior to saving to suppress this warning.\n"
     ]
    },
    {
     "name": "stdout",
     "output_type": "stream",
     "text": [
      "Falciparum/gt/1409191647-0004-R.jpg\n",
      "Falciparum/gt/1409191647-0005-R.png\n",
      "Falciparum/gt/1409191647-0005-R.jpg\n",
      "Falciparum/gt/1409191647-0006-R.png\n"
     ]
    },
    {
     "name": "stderr",
     "output_type": "stream",
     "text": [
      "/data/users/g6114450078/.local/lib/python3.7/site-packages/ipykernel_launcher.py:9: UserWarning: Falciparum/gt/1409191647-0006-R.jpg is a low contrast image\n",
      "  if __name__ == '__main__':\n",
      "Lossy conversion from float64 to uint8. Range [0, 1]. Convert image to uint8 prior to saving to suppress this warning.\n",
      "/data/users/g6114450078/.local/lib/python3.7/site-packages/ipykernel_launcher.py:9: UserWarning: Falciparum/gt/1409191647-0007-R.jpg is a low contrast image\n",
      "  if __name__ == '__main__':\n",
      "Lossy conversion from float64 to uint8. Range [0, 1]. Convert image to uint8 prior to saving to suppress this warning.\n"
     ]
    },
    {
     "name": "stdout",
     "output_type": "stream",
     "text": [
      "Falciparum/gt/1409191647-0006-R.jpg\n",
      "Falciparum/gt/1409191647-0007-R.png\n",
      "Falciparum/gt/1409191647-0007-R.jpg\n",
      "Falciparum/gt/1409191647-0008-T.png\n"
     ]
    },
    {
     "name": "stderr",
     "output_type": "stream",
     "text": [
      "/data/users/g6114450078/.local/lib/python3.7/site-packages/ipykernel_launcher.py:9: UserWarning: Falciparum/gt/1409191647-0008-T.jpg is a low contrast image\n",
      "  if __name__ == '__main__':\n",
      "Lossy conversion from float64 to uint8. Range [0, 1]. Convert image to uint8 prior to saving to suppress this warning.\n",
      "/data/users/g6114450078/.local/lib/python3.7/site-packages/ipykernel_launcher.py:9: UserWarning: Falciparum/gt/1409191647-0009-R.jpg is a low contrast image\n",
      "  if __name__ == '__main__':\n",
      "Lossy conversion from float64 to uint8. Range [0, 1]. Convert image to uint8 prior to saving to suppress this warning.\n"
     ]
    },
    {
     "name": "stdout",
     "output_type": "stream",
     "text": [
      "Falciparum/gt/1409191647-0008-T.jpg\n",
      "Falciparum/gt/1409191647-0009-R.png\n",
      "Falciparum/gt/1409191647-0009-R.jpg\n",
      "Falciparum/gt/1409191647-0010-R.png\n"
     ]
    },
    {
     "name": "stderr",
     "output_type": "stream",
     "text": [
      "/data/users/g6114450078/.local/lib/python3.7/site-packages/ipykernel_launcher.py:9: UserWarning: Falciparum/gt/1409191647-0010-R.jpg is a low contrast image\n",
      "  if __name__ == '__main__':\n",
      "Lossy conversion from float64 to uint8. Range [0, 1]. Convert image to uint8 prior to saving to suppress this warning.\n",
      "/data/users/g6114450078/.local/lib/python3.7/site-packages/ipykernel_launcher.py:9: UserWarning: Falciparum/gt/1603223711-0001-T.jpg is a low contrast image\n",
      "  if __name__ == '__main__':\n",
      "Lossy conversion from float64 to uint8. Range [0, 1]. Convert image to uint8 prior to saving to suppress this warning.\n"
     ]
    },
    {
     "name": "stdout",
     "output_type": "stream",
     "text": [
      "Falciparum/gt/1409191647-0010-R.jpg\n",
      "Falciparum/gt/1603223711-0001-T.tif\n",
      "Falciparum/gt/1603223711-0001-T.jpg\n",
      "Falciparum/gt/1603223711-0002-T.tif\n"
     ]
    },
    {
     "name": "stderr",
     "output_type": "stream",
     "text": [
      "/data/users/g6114450078/.local/lib/python3.7/site-packages/ipykernel_launcher.py:9: UserWarning: Falciparum/gt/1603223711-0002-T.jpg is a low contrast image\n",
      "  if __name__ == '__main__':\n",
      "Lossy conversion from float64 to uint8. Range [0, 1]. Convert image to uint8 prior to saving to suppress this warning.\n",
      "/data/users/g6114450078/.local/lib/python3.7/site-packages/ipykernel_launcher.py:9: UserWarning: Falciparum/gt/1603223711-0003-T_R.jpg is a low contrast image\n",
      "  if __name__ == '__main__':\n",
      "Lossy conversion from float64 to uint8. Range [0, 1]. Convert image to uint8 prior to saving to suppress this warning.\n"
     ]
    },
    {
     "name": "stdout",
     "output_type": "stream",
     "text": [
      "Falciparum/gt/1603223711-0002-T.jpg\n",
      "Falciparum/gt/1603223711-0003-T_R.tif\n",
      "Falciparum/gt/1603223711-0003-T_R.jpg\n",
      "Falciparum/gt/1603223711-0004-R.tif\n"
     ]
    },
    {
     "name": "stderr",
     "output_type": "stream",
     "text": [
      "/data/users/g6114450078/.local/lib/python3.7/site-packages/ipykernel_launcher.py:9: UserWarning: Falciparum/gt/1603223711-0004-R.jpg is a low contrast image\n",
      "  if __name__ == '__main__':\n",
      "Lossy conversion from float64 to uint8. Range [0, 1]. Convert image to uint8 prior to saving to suppress this warning.\n",
      "/data/users/g6114450078/.local/lib/python3.7/site-packages/ipykernel_launcher.py:9: UserWarning: Falciparum/gt/1603223711-0005-T.jpg is a low contrast image\n",
      "  if __name__ == '__main__':\n",
      "Lossy conversion from float64 to uint8. Range [0, 1]. Convert image to uint8 prior to saving to suppress this warning.\n"
     ]
    },
    {
     "name": "stdout",
     "output_type": "stream",
     "text": [
      "Falciparum/gt/1603223711-0004-R.jpg\n",
      "Falciparum/gt/1603223711-0005-T.tif\n",
      "Falciparum/gt/1603223711-0005-T.jpg\n",
      "Falciparum/gt/1603223711-0006-T.tif\n"
     ]
    },
    {
     "name": "stderr",
     "output_type": "stream",
     "text": [
      "/data/users/g6114450078/.local/lib/python3.7/site-packages/ipykernel_launcher.py:9: UserWarning: Falciparum/gt/1603223711-0006-T.jpg is a low contrast image\n",
      "  if __name__ == '__main__':\n",
      "Lossy conversion from float64 to uint8. Range [0, 1]. Convert image to uint8 prior to saving to suppress this warning.\n",
      "/data/users/g6114450078/.local/lib/python3.7/site-packages/ipykernel_launcher.py:9: UserWarning: Falciparum/gt/1701151546-0001-R_T.jpg is a low contrast image\n",
      "  if __name__ == '__main__':\n",
      "Lossy conversion from float64 to uint8. Range [0, 1]. Convert image to uint8 prior to saving to suppress this warning.\n"
     ]
    },
    {
     "name": "stdout",
     "output_type": "stream",
     "text": [
      "Falciparum/gt/1603223711-0006-T.jpg\n",
      "Falciparum/gt/1701151546-0001-R_T.tif\n",
      "Falciparum/gt/1701151546-0001-R_T.jpg\n",
      "Falciparum/gt/1701151546-0002-R.tif\n"
     ]
    },
    {
     "name": "stderr",
     "output_type": "stream",
     "text": [
      "/data/users/g6114450078/.local/lib/python3.7/site-packages/ipykernel_launcher.py:9: UserWarning: Falciparum/gt/1701151546-0002-R.jpg is a low contrast image\n",
      "  if __name__ == '__main__':\n",
      "Lossy conversion from float64 to uint8. Range [0, 1]. Convert image to uint8 prior to saving to suppress this warning.\n",
      "/data/users/g6114450078/.local/lib/python3.7/site-packages/ipykernel_launcher.py:9: UserWarning: Falciparum/gt/1701151546-0003-R.jpg is a low contrast image\n",
      "  if __name__ == '__main__':\n",
      "Lossy conversion from float64 to uint8. Range [0, 1]. Convert image to uint8 prior to saving to suppress this warning.\n"
     ]
    },
    {
     "name": "stdout",
     "output_type": "stream",
     "text": [
      "Falciparum/gt/1701151546-0002-R.jpg\n",
      "Falciparum/gt/1701151546-0003-R.tif\n",
      "Falciparum/gt/1701151546-0003-R.jpg\n",
      "Falciparum/gt/1701151546-0004-R_T.tif\n"
     ]
    },
    {
     "name": "stderr",
     "output_type": "stream",
     "text": [
      "/data/users/g6114450078/.local/lib/python3.7/site-packages/ipykernel_launcher.py:9: UserWarning: Falciparum/gt/1701151546-0004-R_T.jpg is a low contrast image\n",
      "  if __name__ == '__main__':\n",
      "Lossy conversion from float64 to uint8. Range [0, 1]. Convert image to uint8 prior to saving to suppress this warning.\n",
      "/data/users/g6114450078/.local/lib/python3.7/site-packages/ipykernel_launcher.py:9: UserWarning: Falciparum/gt/1701151546-0005-R.jpg is a low contrast image\n",
      "  if __name__ == '__main__':\n",
      "Lossy conversion from float64 to uint8. Range [0, 1]. Convert image to uint8 prior to saving to suppress this warning.\n"
     ]
    },
    {
     "name": "stdout",
     "output_type": "stream",
     "text": [
      "Falciparum/gt/1701151546-0004-R_T.jpg\n",
      "Falciparum/gt/1701151546-0005-R.tif\n",
      "Falciparum/gt/1701151546-0005-R.jpg\n",
      "Falciparum/gt/1701151546-0006-R_T.tif\n"
     ]
    },
    {
     "name": "stderr",
     "output_type": "stream",
     "text": [
      "/data/users/g6114450078/.local/lib/python3.7/site-packages/ipykernel_launcher.py:9: UserWarning: Falciparum/gt/1701151546-0006-R_T.jpg is a low contrast image\n",
      "  if __name__ == '__main__':\n",
      "Lossy conversion from float64 to uint8. Range [0, 1]. Convert image to uint8 prior to saving to suppress this warning.\n",
      "/data/users/g6114450078/.local/lib/python3.7/site-packages/ipykernel_launcher.py:9: UserWarning: Falciparum/gt/1701151546-0007-R.jpg is a low contrast image\n",
      "  if __name__ == '__main__':\n",
      "Lossy conversion from float64 to uint8. Range [0, 1]. Convert image to uint8 prior to saving to suppress this warning.\n"
     ]
    },
    {
     "name": "stdout",
     "output_type": "stream",
     "text": [
      "Falciparum/gt/1701151546-0006-R_T.jpg\n",
      "Falciparum/gt/1701151546-0007-R.tif\n",
      "Falciparum/gt/1701151546-0007-R.jpg\n",
      "Falciparum/gt/1701151546-0008-R-T.tif\n"
     ]
    },
    {
     "name": "stderr",
     "output_type": "stream",
     "text": [
      "/data/users/g6114450078/.local/lib/python3.7/site-packages/ipykernel_launcher.py:9: UserWarning: Falciparum/gt/1701151546-0008-R-T.jpg is a low contrast image\n",
      "  if __name__ == '__main__':\n",
      "Lossy conversion from float64 to uint8. Range [0, 1]. Convert image to uint8 prior to saving to suppress this warning.\n",
      "/data/users/g6114450078/.local/lib/python3.7/site-packages/ipykernel_launcher.py:9: UserWarning: Falciparum/gt/1701151546-0009-R.jpg is a low contrast image\n",
      "  if __name__ == '__main__':\n",
      "Lossy conversion from float64 to uint8. Range [0, 1]. Convert image to uint8 prior to saving to suppress this warning.\n"
     ]
    },
    {
     "name": "stdout",
     "output_type": "stream",
     "text": [
      "Falciparum/gt/1701151546-0008-R-T.jpg\n",
      "Falciparum/gt/1701151546-0009-R.tif\n",
      "Falciparum/gt/1701151546-0009-R.jpg\n",
      "Falciparum/gt/1701151546-0010-R.tif\n"
     ]
    },
    {
     "name": "stderr",
     "output_type": "stream",
     "text": [
      "/data/users/g6114450078/.local/lib/python3.7/site-packages/ipykernel_launcher.py:9: UserWarning: Falciparum/gt/1701151546-0010-R.jpg is a low contrast image\n",
      "  if __name__ == '__main__':\n",
      "Lossy conversion from float64 to uint8. Range [0, 1]. Convert image to uint8 prior to saving to suppress this warning.\n",
      "/data/users/g6114450078/.local/lib/python3.7/site-packages/ipykernel_launcher.py:9: UserWarning: Falciparum/gt/1701151546-0011-R_T.jpg is a low contrast image\n",
      "  if __name__ == '__main__':\n",
      "Lossy conversion from float64 to uint8. Range [0, 1]. Convert image to uint8 prior to saving to suppress this warning.\n"
     ]
    },
    {
     "name": "stdout",
     "output_type": "stream",
     "text": [
      "Falciparum/gt/1701151546-0010-R.jpg\n",
      "Falciparum/gt/1701151546-0011-R_T.tif\n",
      "Falciparum/gt/1701151546-0011-R_T.jpg\n",
      "Falciparum/gt/1701151546-0012-R.tif\n"
     ]
    },
    {
     "name": "stderr",
     "output_type": "stream",
     "text": [
      "/data/users/g6114450078/.local/lib/python3.7/site-packages/ipykernel_launcher.py:9: UserWarning: Falciparum/gt/1701151546-0012-R.jpg is a low contrast image\n",
      "  if __name__ == '__main__':\n",
      "Lossy conversion from float64 to uint8. Range [0, 1]. Convert image to uint8 prior to saving to suppress this warning.\n",
      "/data/users/g6114450078/.local/lib/python3.7/site-packages/ipykernel_launcher.py:9: UserWarning: Falciparum/gt/1701151546-0013-R-T.jpg is a low contrast image\n",
      "  if __name__ == '__main__':\n",
      "Lossy conversion from float64 to uint8. Range [0, 1]. Convert image to uint8 prior to saving to suppress this warning.\n"
     ]
    },
    {
     "name": "stdout",
     "output_type": "stream",
     "text": [
      "Falciparum/gt/1701151546-0012-R.jpg\n",
      "Falciparum/gt/1701151546-0013-R-T.tif\n",
      "Falciparum/gt/1701151546-0013-R-T.jpg\n",
      "Falciparum/gt/1701151546-0014-R.tif\n"
     ]
    },
    {
     "name": "stderr",
     "output_type": "stream",
     "text": [
      "Lossy conversion from float64 to uint8. Range [0, 1]. Convert image to uint8 prior to saving to suppress this warning.\n",
      "Lossy conversion from float64 to uint8. Range [0, 1]. Convert image to uint8 prior to saving to suppress this warning.\n"
     ]
    },
    {
     "name": "stdout",
     "output_type": "stream",
     "text": [
      "Falciparum/gt/1701151546-0014-R.jpg\n",
      "Falciparum/gt/1701151546-0015-R_T.tif\n",
      "Falciparum/gt/1701151546-0015-R_T.jpg\n",
      "Falciparum/gt/1704282807-0001-R.tif\n"
     ]
    },
    {
     "name": "stderr",
     "output_type": "stream",
     "text": [
      "/data/users/g6114450078/.local/lib/python3.7/site-packages/ipykernel_launcher.py:9: UserWarning: Falciparum/gt/1704282807-0001-R.jpg is a low contrast image\n",
      "  if __name__ == '__main__':\n",
      "Lossy conversion from float64 to uint8. Range [0, 1]. Convert image to uint8 prior to saving to suppress this warning.\n",
      "Lossy conversion from float64 to uint8. Range [0, 1]. Convert image to uint8 prior to saving to suppress this warning.\n"
     ]
    },
    {
     "name": "stdout",
     "output_type": "stream",
     "text": [
      "Falciparum/gt/1704282807-0001-R.jpg\n",
      "Falciparum/gt/1704282807-0002-R.tif\n",
      "Falciparum/gt/1704282807-0002-R.jpg\n",
      "Falciparum/gt/1704282807-0003-R.tif\n"
     ]
    },
    {
     "name": "stderr",
     "output_type": "stream",
     "text": [
      "/data/users/g6114450078/.local/lib/python3.7/site-packages/ipykernel_launcher.py:9: UserWarning: Falciparum/gt/1704282807-0003-R.jpg is a low contrast image\n",
      "  if __name__ == '__main__':\n",
      "Lossy conversion from float64 to uint8. Range [0, 1]. Convert image to uint8 prior to saving to suppress this warning.\n"
     ]
    },
    {
     "name": "stdout",
     "output_type": "stream",
     "text": [
      "Falciparum/gt/1704282807-0003-R.jpg\n",
      "Falciparum/gt/1704282807-0004-R_T.tif\n"
     ]
    },
    {
     "name": "stderr",
     "output_type": "stream",
     "text": [
      "/data/users/g6114450078/.local/lib/python3.7/site-packages/ipykernel_launcher.py:9: UserWarning: Falciparum/gt/1704282807-0004-R_T.jpg is a low contrast image\n",
      "  if __name__ == '__main__':\n",
      "Lossy conversion from float64 to uint8. Range [0, 1]. Convert image to uint8 prior to saving to suppress this warning.\n",
      "Lossy conversion from float64 to uint8. Range [0, 1]. Convert image to uint8 prior to saving to suppress this warning.\n"
     ]
    },
    {
     "name": "stdout",
     "output_type": "stream",
     "text": [
      "Falciparum/gt/1704282807-0004-R_T.jpg\n",
      "Falciparum/gt/1704282807-0005-R.tif\n"
     ]
    },
    {
     "name": "stderr",
     "output_type": "stream",
     "text": [
      "Lossy conversion from float64 to uint8. Range [0, 1]. Convert image to uint8 prior to saving to suppress this warning.\n"
     ]
    },
    {
     "name": "stdout",
     "output_type": "stream",
     "text": [
      "Falciparum/gt/1704282807-0005-R.jpg\n",
      "Falciparum/gt/1704282807-0006-R.tif\n"
     ]
    },
    {
     "name": "stderr",
     "output_type": "stream",
     "text": [
      "Lossy conversion from float64 to uint8. Range [0, 1]. Convert image to uint8 prior to saving to suppress this warning.\n"
     ]
    },
    {
     "name": "stdout",
     "output_type": "stream",
     "text": [
      "Falciparum/gt/1704282807-0006-R.jpg\n",
      "Falciparum/gt/1704282807-0007-R.tif\n"
     ]
    },
    {
     "name": "stderr",
     "output_type": "stream",
     "text": [
      "Lossy conversion from float64 to uint8. Range [0, 1]. Convert image to uint8 prior to saving to suppress this warning.\n"
     ]
    },
    {
     "name": "stdout",
     "output_type": "stream",
     "text": [
      "Falciparum/gt/1704282807-0007-R.jpg\n",
      "Falciparum/gt/1704282807-0008-R.tif\n",
      "Falciparum/gt/1704282807-0008-R.jpg\n",
      "Falciparum/gt/1704282807-0009-R.tif\n"
     ]
    },
    {
     "name": "stderr",
     "output_type": "stream",
     "text": [
      "/data/users/g6114450078/.local/lib/python3.7/site-packages/ipykernel_launcher.py:9: UserWarning: Falciparum/gt/1704282807-0009-R.jpg is a low contrast image\n",
      "  if __name__ == '__main__':\n",
      "Lossy conversion from float64 to uint8. Range [0, 1]. Convert image to uint8 prior to saving to suppress this warning.\n",
      "Lossy conversion from float64 to uint8. Range [0, 1]. Convert image to uint8 prior to saving to suppress this warning.\n"
     ]
    },
    {
     "name": "stdout",
     "output_type": "stream",
     "text": [
      "Falciparum/gt/1704282807-0009-R.jpg\n",
      "Falciparum/gt/1704282807-0010-R.tif\n",
      "Falciparum/gt/1704282807-0010-R.jpg\n",
      "Falciparum/gt/1704282807-0011-R_T.tif\n"
     ]
    },
    {
     "name": "stderr",
     "output_type": "stream",
     "text": [
      "Lossy conversion from float64 to uint8. Range [0, 1]. Convert image to uint8 prior to saving to suppress this warning.\n",
      "Lossy conversion from float64 to uint8. Range [0, 1]. Convert image to uint8 prior to saving to suppress this warning.\n"
     ]
    },
    {
     "name": "stdout",
     "output_type": "stream",
     "text": [
      "Falciparum/gt/1704282807-0011-R_T.jpg\n",
      "Falciparum/gt/1704282807-0012-R_T.tif\n",
      "Falciparum/gt/1704282807-0012-R_T.jpg\n",
      "Falciparum/gt/1704282807-0013-R_T.tif\n"
     ]
    },
    {
     "name": "stderr",
     "output_type": "stream",
     "text": [
      "Lossy conversion from float64 to uint8. Range [0, 1]. Convert image to uint8 prior to saving to suppress this warning.\n",
      "Lossy conversion from float64 to uint8. Range [0, 1]. Convert image to uint8 prior to saving to suppress this warning.\n"
     ]
    },
    {
     "name": "stdout",
     "output_type": "stream",
     "text": [
      "Falciparum/gt/1704282807-0013-R_T.jpg\n",
      "Falciparum/gt/1704282807-0014-R.tif\n",
      "Falciparum/gt/1704282807-0014-R.jpg\n",
      "Falciparum/gt/1704282807-0015-R.tif\n"
     ]
    },
    {
     "name": "stderr",
     "output_type": "stream",
     "text": [
      "Lossy conversion from float64 to uint8. Range [0, 1]. Convert image to uint8 prior to saving to suppress this warning.\n",
      "Lossy conversion from float64 to uint8. Range [0, 1]. Convert image to uint8 prior to saving to suppress this warning.\n"
     ]
    },
    {
     "name": "stdout",
     "output_type": "stream",
     "text": [
      "Falciparum/gt/1704282807-0015-R.jpg\n",
      "Falciparum/gt/1704282807-0016-R.tif\n",
      "Falciparum/gt/1704282807-0016-R.jpg\n",
      "Falciparum/gt/1704282807-0017-R.tif\n"
     ]
    },
    {
     "name": "stderr",
     "output_type": "stream",
     "text": [
      "Lossy conversion from float64 to uint8. Range [0, 1]. Convert image to uint8 prior to saving to suppress this warning.\n",
      "Lossy conversion from float64 to uint8. Range [0, 1]. Convert image to uint8 prior to saving to suppress this warning.\n"
     ]
    },
    {
     "name": "stdout",
     "output_type": "stream",
     "text": [
      "Falciparum/gt/1704282807-0017-R.jpg\n",
      "Falciparum/gt/1704282807-0018-R.tif\n",
      "Falciparum/gt/1704282807-0018-R.jpg\n",
      "Falciparum/gt/1704282807-0019-R_T.tif\n"
     ]
    },
    {
     "name": "stderr",
     "output_type": "stream",
     "text": [
      "Lossy conversion from float64 to uint8. Range [0, 1]. Convert image to uint8 prior to saving to suppress this warning.\n",
      "Lossy conversion from float64 to uint8. Range [0, 1]. Convert image to uint8 prior to saving to suppress this warning.\n"
     ]
    },
    {
     "name": "stdout",
     "output_type": "stream",
     "text": [
      "Falciparum/gt/1704282807-0019-R_T.jpg\n",
      "Falciparum/gt/1704282807-0020-R_T_S.tif\n",
      "Falciparum/gt/1704282807-0020-R_T_S.jpg\n",
      "Falciparum/gt/1704282807-0021_R_T.tif\n"
     ]
    },
    {
     "name": "stderr",
     "output_type": "stream",
     "text": [
      "Lossy conversion from float64 to uint8. Range [0, 1]. Convert image to uint8 prior to saving to suppress this warning.\n"
     ]
    },
    {
     "name": "stdout",
     "output_type": "stream",
     "text": [
      "Falciparum/gt/1704282807-0021_R_T.jpg\n",
      "--------img start---------\n",
      "Falciparum/img/1305121398-0001-R_S.png\n"
     ]
    },
    {
     "name": "stderr",
     "output_type": "stream",
     "text": [
      "Lossy conversion from float64 to uint8. Range [0, 1]. Convert image to uint8 prior to saving to suppress this warning.\n"
     ]
    },
    {
     "name": "stdout",
     "output_type": "stream",
     "text": [
      "Falciparum/img/1305121398-0001-R_S.jpg\n",
      "Falciparum/img/1305121398-0003-R.png\n"
     ]
    },
    {
     "name": "stderr",
     "output_type": "stream",
     "text": [
      "Lossy conversion from float64 to uint8. Range [0, 1]. Convert image to uint8 prior to saving to suppress this warning.\n"
     ]
    },
    {
     "name": "stdout",
     "output_type": "stream",
     "text": [
      "Falciparum/img/1305121398-0003-R.jpg\n",
      "Falciparum/img/1305121398-0004-R.png\n"
     ]
    },
    {
     "name": "stderr",
     "output_type": "stream",
     "text": [
      "Lossy conversion from float64 to uint8. Range [0, 1]. Convert image to uint8 prior to saving to suppress this warning.\n"
     ]
    },
    {
     "name": "stdout",
     "output_type": "stream",
     "text": [
      "Falciparum/img/1305121398-0004-R.jpg\n",
      "Falciparum/img/1305121398-0005-T.png\n"
     ]
    },
    {
     "name": "stderr",
     "output_type": "stream",
     "text": [
      "Lossy conversion from float64 to uint8. Range [0, 1]. Convert image to uint8 prior to saving to suppress this warning.\n"
     ]
    },
    {
     "name": "stdout",
     "output_type": "stream",
     "text": [
      "Falciparum/img/1305121398-0005-T.jpg\n",
      "Falciparum/img/1305121398-0006-R.png\n"
     ]
    },
    {
     "name": "stderr",
     "output_type": "stream",
     "text": [
      "Lossy conversion from float64 to uint8. Range [0, 1]. Convert image to uint8 prior to saving to suppress this warning.\n"
     ]
    },
    {
     "name": "stdout",
     "output_type": "stream",
     "text": [
      "Falciparum/img/1305121398-0006-R.jpg\n",
      "Falciparum/img/1305121398-0007-R.png\n"
     ]
    },
    {
     "name": "stderr",
     "output_type": "stream",
     "text": [
      "Lossy conversion from float64 to uint8. Range [0, 1]. Convert image to uint8 prior to saving to suppress this warning.\n"
     ]
    },
    {
     "name": "stdout",
     "output_type": "stream",
     "text": [
      "Falciparum/img/1305121398-0007-R.jpg\n",
      "Falciparum/img/1305121398-0008-R.png\n"
     ]
    },
    {
     "name": "stderr",
     "output_type": "stream",
     "text": [
      "Lossy conversion from float64 to uint8. Range [0, 1]. Convert image to uint8 prior to saving to suppress this warning.\n"
     ]
    },
    {
     "name": "stdout",
     "output_type": "stream",
     "text": [
      "Falciparum/img/1305121398-0008-R.jpg\n",
      "Falciparum/img/1305121398-0010-S.png\n"
     ]
    },
    {
     "name": "stderr",
     "output_type": "stream",
     "text": [
      "Lossy conversion from float64 to uint8. Range [0, 1]. Convert image to uint8 prior to saving to suppress this warning.\n"
     ]
    },
    {
     "name": "stdout",
     "output_type": "stream",
     "text": [
      "Falciparum/img/1305121398-0010-S.jpg\n",
      "Falciparum/img/1305121398-0011-S.png\n"
     ]
    },
    {
     "name": "stderr",
     "output_type": "stream",
     "text": [
      "Lossy conversion from float64 to uint8. Range [0, 1]. Convert image to uint8 prior to saving to suppress this warning.\n"
     ]
    },
    {
     "name": "stdout",
     "output_type": "stream",
     "text": [
      "Falciparum/img/1305121398-0011-S.jpg\n",
      "Falciparum/img/1305121398-0012-S.png\n"
     ]
    },
    {
     "name": "stderr",
     "output_type": "stream",
     "text": [
      "Lossy conversion from float64 to uint8. Range [0, 1]. Convert image to uint8 prior to saving to suppress this warning.\n"
     ]
    },
    {
     "name": "stdout",
     "output_type": "stream",
     "text": [
      "Falciparum/img/1305121398-0012-S.jpg\n",
      "Falciparum/img/1305121398-0013-S.png\n"
     ]
    },
    {
     "name": "stderr",
     "output_type": "stream",
     "text": [
      "Lossy conversion from float64 to uint8. Range [0, 1]. Convert image to uint8 prior to saving to suppress this warning.\n"
     ]
    },
    {
     "name": "stdout",
     "output_type": "stream",
     "text": [
      "Falciparum/img/1305121398-0013-S.jpg\n",
      "Falciparum/img/1305121398-0014-S.png\n"
     ]
    },
    {
     "name": "stderr",
     "output_type": "stream",
     "text": [
      "Lossy conversion from float64 to uint8. Range [0, 1]. Convert image to uint8 prior to saving to suppress this warning.\n"
     ]
    },
    {
     "name": "stdout",
     "output_type": "stream",
     "text": [
      "Falciparum/img/1305121398-0014-S.jpg\n",
      "Falciparum/img/1305121398-0015-S.png\n"
     ]
    },
    {
     "name": "stderr",
     "output_type": "stream",
     "text": [
      "Lossy conversion from float64 to uint8. Range [0, 1]. Convert image to uint8 prior to saving to suppress this warning.\n"
     ]
    },
    {
     "name": "stdout",
     "output_type": "stream",
     "text": [
      "Falciparum/img/1305121398-0015-S.jpg\n",
      "Falciparum/img/1305121398-0016-T.png\n"
     ]
    },
    {
     "name": "stderr",
     "output_type": "stream",
     "text": [
      "Lossy conversion from float64 to uint8. Range [0, 1]. Convert image to uint8 prior to saving to suppress this warning.\n"
     ]
    },
    {
     "name": "stdout",
     "output_type": "stream",
     "text": [
      "Falciparum/img/1305121398-0016-T.jpg\n",
      "Falciparum/img/1305121398-0017-R.png\n"
     ]
    },
    {
     "name": "stderr",
     "output_type": "stream",
     "text": [
      "Lossy conversion from float64 to uint8. Range [0, 1]. Convert image to uint8 prior to saving to suppress this warning.\n"
     ]
    },
    {
     "name": "stdout",
     "output_type": "stream",
     "text": [
      "Falciparum/img/1305121398-0017-R.jpg\n",
      "Falciparum/img/1305121398-0018-S.png\n"
     ]
    },
    {
     "name": "stderr",
     "output_type": "stream",
     "text": [
      "Lossy conversion from float64 to uint8. Range [0, 1]. Convert image to uint8 prior to saving to suppress this warning.\n"
     ]
    },
    {
     "name": "stdout",
     "output_type": "stream",
     "text": [
      "Falciparum/img/1305121398-0018-S.jpg\n",
      "Falciparum/img/1305121398-0019-R.png\n"
     ]
    },
    {
     "name": "stderr",
     "output_type": "stream",
     "text": [
      "Lossy conversion from float64 to uint8. Range [0, 1]. Convert image to uint8 prior to saving to suppress this warning.\n"
     ]
    },
    {
     "name": "stdout",
     "output_type": "stream",
     "text": [
      "Falciparum/img/1305121398-0019-R.jpg\n",
      "Falciparum/img/1305121398-0020-S.png\n"
     ]
    },
    {
     "name": "stderr",
     "output_type": "stream",
     "text": [
      "Lossy conversion from float64 to uint8. Range [0, 1]. Convert image to uint8 prior to saving to suppress this warning.\n"
     ]
    },
    {
     "name": "stdout",
     "output_type": "stream",
     "text": [
      "Falciparum/img/1305121398-0020-S.jpg\n",
      "Falciparum/img/1305121398-0021-S.png\n"
     ]
    },
    {
     "name": "stderr",
     "output_type": "stream",
     "text": [
      "Lossy conversion from float64 to uint8. Range [0, 1]. Convert image to uint8 prior to saving to suppress this warning.\n"
     ]
    },
    {
     "name": "stdout",
     "output_type": "stream",
     "text": [
      "Falciparum/img/1305121398-0021-S.jpg\n",
      "Falciparum/img/1305121398-0022-S.png\n"
     ]
    },
    {
     "name": "stderr",
     "output_type": "stream",
     "text": [
      "Lossy conversion from float64 to uint8. Range [0, 1]. Convert image to uint8 prior to saving to suppress this warning.\n"
     ]
    },
    {
     "name": "stdout",
     "output_type": "stream",
     "text": [
      "Falciparum/img/1305121398-0022-S.jpg\n",
      "Falciparum/img/1307210661-0001-R.png\n"
     ]
    },
    {
     "name": "stderr",
     "output_type": "stream",
     "text": [
      "Lossy conversion from float64 to uint8. Range [0, 1]. Convert image to uint8 prior to saving to suppress this warning.\n"
     ]
    },
    {
     "name": "stdout",
     "output_type": "stream",
     "text": [
      "Falciparum/img/1307210661-0001-R.jpg\n",
      "Falciparum/img/1307210661-0002-R.png\n"
     ]
    },
    {
     "name": "stderr",
     "output_type": "stream",
     "text": [
      "Lossy conversion from float64 to uint8. Range [0, 1]. Convert image to uint8 prior to saving to suppress this warning.\n"
     ]
    },
    {
     "name": "stdout",
     "output_type": "stream",
     "text": [
      "Falciparum/img/1307210661-0002-R.jpg\n",
      "Falciparum/img/1307210661-0003-R.png\n"
     ]
    },
    {
     "name": "stderr",
     "output_type": "stream",
     "text": [
      "Lossy conversion from float64 to uint8. Range [0, 1]. Convert image to uint8 prior to saving to suppress this warning.\n"
     ]
    },
    {
     "name": "stdout",
     "output_type": "stream",
     "text": [
      "Falciparum/img/1307210661-0003-R.jpg\n",
      "Falciparum/img/1307210661-0004-R.png\n"
     ]
    },
    {
     "name": "stderr",
     "output_type": "stream",
     "text": [
      "Lossy conversion from float64 to uint8. Range [0, 1]. Convert image to uint8 prior to saving to suppress this warning.\n"
     ]
    },
    {
     "name": "stdout",
     "output_type": "stream",
     "text": [
      "Falciparum/img/1307210661-0004-R.jpg\n",
      "Falciparum/img/1307210661-0005-R.png\n"
     ]
    },
    {
     "name": "stderr",
     "output_type": "stream",
     "text": [
      "Lossy conversion from float64 to uint8. Range [0, 1]. Convert image to uint8 prior to saving to suppress this warning.\n"
     ]
    },
    {
     "name": "stdout",
     "output_type": "stream",
     "text": [
      "Falciparum/img/1307210661-0005-R.jpg\n",
      "Falciparum/img/1307210661-0006-R.png\n"
     ]
    },
    {
     "name": "stderr",
     "output_type": "stream",
     "text": [
      "Lossy conversion from float64 to uint8. Range [0, 1]. Convert image to uint8 prior to saving to suppress this warning.\n"
     ]
    },
    {
     "name": "stdout",
     "output_type": "stream",
     "text": [
      "Falciparum/img/1307210661-0006-R.jpg\n",
      "Falciparum/img/1307210661-0007-R.png\n"
     ]
    },
    {
     "name": "stderr",
     "output_type": "stream",
     "text": [
      "Lossy conversion from float64 to uint8. Range [0, 1]. Convert image to uint8 prior to saving to suppress this warning.\n"
     ]
    },
    {
     "name": "stdout",
     "output_type": "stream",
     "text": [
      "Falciparum/img/1307210661-0007-R.jpg\n",
      "Falciparum/img/1307210661-0008-R.png\n"
     ]
    },
    {
     "name": "stderr",
     "output_type": "stream",
     "text": [
      "Lossy conversion from float64 to uint8. Range [0, 1]. Convert image to uint8 prior to saving to suppress this warning.\n"
     ]
    },
    {
     "name": "stdout",
     "output_type": "stream",
     "text": [
      "Falciparum/img/1307210661-0008-R.jpg\n",
      "Falciparum/img/1307210661-0009-R.png\n"
     ]
    },
    {
     "name": "stderr",
     "output_type": "stream",
     "text": [
      "Lossy conversion from float64 to uint8. Range [0, 1]. Convert image to uint8 prior to saving to suppress this warning.\n"
     ]
    },
    {
     "name": "stdout",
     "output_type": "stream",
     "text": [
      "Falciparum/img/1307210661-0009-R.jpg\n",
      "Falciparum/img/1307210661-0010-R.png\n"
     ]
    },
    {
     "name": "stderr",
     "output_type": "stream",
     "text": [
      "Lossy conversion from float64 to uint8. Range [0, 1]. Convert image to uint8 prior to saving to suppress this warning.\n"
     ]
    },
    {
     "name": "stdout",
     "output_type": "stream",
     "text": [
      "Falciparum/img/1307210661-0010-R.jpg\n",
      "Falciparum/img/1401063467-0001-S.png\n"
     ]
    },
    {
     "name": "stderr",
     "output_type": "stream",
     "text": [
      "Lossy conversion from float64 to uint8. Range [0, 1]. Convert image to uint8 prior to saving to suppress this warning.\n"
     ]
    },
    {
     "name": "stdout",
     "output_type": "stream",
     "text": [
      "Falciparum/img/1401063467-0001-S.jpg\n",
      "Falciparum/img/1401063467-0002-T.png\n"
     ]
    },
    {
     "name": "stderr",
     "output_type": "stream",
     "text": [
      "Lossy conversion from float64 to uint8. Range [0, 1]. Convert image to uint8 prior to saving to suppress this warning.\n"
     ]
    },
    {
     "name": "stdout",
     "output_type": "stream",
     "text": [
      "Falciparum/img/1401063467-0002-T.jpg\n",
      "Falciparum/img/1401063467-0003-T.png\n"
     ]
    },
    {
     "name": "stderr",
     "output_type": "stream",
     "text": [
      "Lossy conversion from float64 to uint8. Range [0, 1]. Convert image to uint8 prior to saving to suppress this warning.\n"
     ]
    },
    {
     "name": "stdout",
     "output_type": "stream",
     "text": [
      "Falciparum/img/1401063467-0003-T.jpg\n",
      "Falciparum/img/1401063467-0004-R.png\n"
     ]
    },
    {
     "name": "stderr",
     "output_type": "stream",
     "text": [
      "Lossy conversion from float64 to uint8. Range [0, 1]. Convert image to uint8 prior to saving to suppress this warning.\n"
     ]
    },
    {
     "name": "stdout",
     "output_type": "stream",
     "text": [
      "Falciparum/img/1401063467-0004-R.jpg\n",
      "Falciparum/img/1401063467-0005-T.png\n"
     ]
    },
    {
     "name": "stderr",
     "output_type": "stream",
     "text": [
      "Lossy conversion from float64 to uint8. Range [0, 1]. Convert image to uint8 prior to saving to suppress this warning.\n"
     ]
    },
    {
     "name": "stdout",
     "output_type": "stream",
     "text": [
      "Falciparum/img/1401063467-0005-T.jpg\n",
      "Falciparum/img/1401063467-0006-T.png\n"
     ]
    },
    {
     "name": "stderr",
     "output_type": "stream",
     "text": [
      "Lossy conversion from float64 to uint8. Range [0, 1]. Convert image to uint8 prior to saving to suppress this warning.\n"
     ]
    },
    {
     "name": "stdout",
     "output_type": "stream",
     "text": [
      "Falciparum/img/1401063467-0006-T.jpg\n",
      "Falciparum/img/1401063467-0007-S.png\n"
     ]
    },
    {
     "name": "stderr",
     "output_type": "stream",
     "text": [
      "Lossy conversion from float64 to uint8. Range [0, 1]. Convert image to uint8 prior to saving to suppress this warning.\n"
     ]
    },
    {
     "name": "stdout",
     "output_type": "stream",
     "text": [
      "Falciparum/img/1401063467-0007-S.jpg\n",
      "Falciparum/img/1401063467-0008-S.png\n"
     ]
    },
    {
     "name": "stderr",
     "output_type": "stream",
     "text": [
      "Lossy conversion from float64 to uint8. Range [0, 1]. Convert image to uint8 prior to saving to suppress this warning.\n"
     ]
    },
    {
     "name": "stdout",
     "output_type": "stream",
     "text": [
      "Falciparum/img/1401063467-0008-S.jpg\n",
      "Falciparum/img/1401063467-0009-T.png\n"
     ]
    },
    {
     "name": "stderr",
     "output_type": "stream",
     "text": [
      "Lossy conversion from float64 to uint8. Range [0, 1]. Convert image to uint8 prior to saving to suppress this warning.\n"
     ]
    },
    {
     "name": "stdout",
     "output_type": "stream",
     "text": [
      "Falciparum/img/1401063467-0009-T.jpg\n",
      "Falciparum/img/1401063467-0010-T.png\n"
     ]
    },
    {
     "name": "stderr",
     "output_type": "stream",
     "text": [
      "Lossy conversion from float64 to uint8. Range [0, 1]. Convert image to uint8 prior to saving to suppress this warning.\n"
     ]
    },
    {
     "name": "stdout",
     "output_type": "stream",
     "text": [
      "Falciparum/img/1401063467-0010-T.jpg\n",
      "Falciparum/img/1401063467-0011-S.png\n"
     ]
    },
    {
     "name": "stderr",
     "output_type": "stream",
     "text": [
      "Lossy conversion from float64 to uint8. Range [0, 1]. Convert image to uint8 prior to saving to suppress this warning.\n"
     ]
    },
    {
     "name": "stdout",
     "output_type": "stream",
     "text": [
      "Falciparum/img/1401063467-0011-S.jpg\n",
      "Falciparum/img/1401063467-0012-S.png\n"
     ]
    },
    {
     "name": "stderr",
     "output_type": "stream",
     "text": [
      "Lossy conversion from float64 to uint8. Range [0, 1]. Convert image to uint8 prior to saving to suppress this warning.\n"
     ]
    },
    {
     "name": "stdout",
     "output_type": "stream",
     "text": [
      "Falciparum/img/1401063467-0012-S.jpg\n",
      "Falciparum/img/1401063467-0013-T.png\n"
     ]
    },
    {
     "name": "stderr",
     "output_type": "stream",
     "text": [
      "Lossy conversion from float64 to uint8. Range [0, 1]. Convert image to uint8 prior to saving to suppress this warning.\n"
     ]
    },
    {
     "name": "stdout",
     "output_type": "stream",
     "text": [
      "Falciparum/img/1401063467-0013-T.jpg\n",
      "Falciparum/img/1405022890-0001-R.png\n"
     ]
    },
    {
     "name": "stderr",
     "output_type": "stream",
     "text": [
      "Lossy conversion from float64 to uint8. Range [0, 1]. Convert image to uint8 prior to saving to suppress this warning.\n"
     ]
    },
    {
     "name": "stdout",
     "output_type": "stream",
     "text": [
      "Falciparum/img/1405022890-0001-R.jpg\n",
      "Falciparum/img/1405022890-0002-R.png\n"
     ]
    },
    {
     "name": "stderr",
     "output_type": "stream",
     "text": [
      "Lossy conversion from float64 to uint8. Range [0, 1]. Convert image to uint8 prior to saving to suppress this warning.\n"
     ]
    },
    {
     "name": "stdout",
     "output_type": "stream",
     "text": [
      "Falciparum/img/1405022890-0002-R.jpg\n",
      "Falciparum/img/1405022890-0003-R.png\n"
     ]
    },
    {
     "name": "stderr",
     "output_type": "stream",
     "text": [
      "Lossy conversion from float64 to uint8. Range [0, 1]. Convert image to uint8 prior to saving to suppress this warning.\n"
     ]
    },
    {
     "name": "stdout",
     "output_type": "stream",
     "text": [
      "Falciparum/img/1405022890-0003-R.jpg\n",
      "Falciparum/img/1405022890-0004-R.png\n"
     ]
    },
    {
     "name": "stderr",
     "output_type": "stream",
     "text": [
      "Lossy conversion from float64 to uint8. Range [0, 1]. Convert image to uint8 prior to saving to suppress this warning.\n"
     ]
    },
    {
     "name": "stdout",
     "output_type": "stream",
     "text": [
      "Falciparum/img/1405022890-0004-R.jpg\n",
      "Falciparum/img/1405022890-0005-R.png\n"
     ]
    },
    {
     "name": "stderr",
     "output_type": "stream",
     "text": [
      "Lossy conversion from float64 to uint8. Range [0, 1]. Convert image to uint8 prior to saving to suppress this warning.\n"
     ]
    },
    {
     "name": "stdout",
     "output_type": "stream",
     "text": [
      "Falciparum/img/1405022890-0005-R.jpg\n",
      "Falciparum/img/1405022890-0006-R.png\n"
     ]
    },
    {
     "name": "stderr",
     "output_type": "stream",
     "text": [
      "Lossy conversion from float64 to uint8. Range [0, 1]. Convert image to uint8 prior to saving to suppress this warning.\n"
     ]
    },
    {
     "name": "stdout",
     "output_type": "stream",
     "text": [
      "Falciparum/img/1405022890-0006-R.jpg\n",
      "Falciparum/img/1408161544-0001-S_R.png\n"
     ]
    },
    {
     "name": "stderr",
     "output_type": "stream",
     "text": [
      "Lossy conversion from float64 to uint8. Range [0, 1]. Convert image to uint8 prior to saving to suppress this warning.\n"
     ]
    },
    {
     "name": "stdout",
     "output_type": "stream",
     "text": [
      "Falciparum/img/1408161544-0001-S_R.jpg\n",
      "Falciparum/img/1408161544-0002-R_S.png\n"
     ]
    },
    {
     "name": "stderr",
     "output_type": "stream",
     "text": [
      "Lossy conversion from float64 to uint8. Range [0, 1]. Convert image to uint8 prior to saving to suppress this warning.\n"
     ]
    },
    {
     "name": "stdout",
     "output_type": "stream",
     "text": [
      "Falciparum/img/1408161544-0002-R_S.jpg\n",
      "Falciparum/img/1408161544-0003-R_S.png\n"
     ]
    },
    {
     "name": "stderr",
     "output_type": "stream",
     "text": [
      "Lossy conversion from float64 to uint8. Range [0, 1]. Convert image to uint8 prior to saving to suppress this warning.\n"
     ]
    },
    {
     "name": "stdout",
     "output_type": "stream",
     "text": [
      "Falciparum/img/1408161544-0003-R_S.jpg\n",
      "Falciparum/img/1408290968-0001-R.png\n"
     ]
    },
    {
     "name": "stderr",
     "output_type": "stream",
     "text": [
      "Lossy conversion from float64 to uint8. Range [0, 1]. Convert image to uint8 prior to saving to suppress this warning.\n"
     ]
    },
    {
     "name": "stdout",
     "output_type": "stream",
     "text": [
      "Falciparum/img/1408290968-0001-R.jpg\n",
      "Falciparum/img/1408290968-0002-R.png\n"
     ]
    },
    {
     "name": "stderr",
     "output_type": "stream",
     "text": [
      "Lossy conversion from float64 to uint8. Range [0, 1]. Convert image to uint8 prior to saving to suppress this warning.\n"
     ]
    },
    {
     "name": "stdout",
     "output_type": "stream",
     "text": [
      "Falciparum/img/1408290968-0002-R.jpg\n",
      "Falciparum/img/1408290968-0003-R.png\n"
     ]
    },
    {
     "name": "stderr",
     "output_type": "stream",
     "text": [
      "Lossy conversion from float64 to uint8. Range [0, 1]. Convert image to uint8 prior to saving to suppress this warning.\n"
     ]
    },
    {
     "name": "stdout",
     "output_type": "stream",
     "text": [
      "Falciparum/img/1408290968-0003-R.jpg\n",
      "Falciparum/img/1409171742-0001-R.png\n"
     ]
    },
    {
     "name": "stderr",
     "output_type": "stream",
     "text": [
      "Lossy conversion from float64 to uint8. Range [0, 1]. Convert image to uint8 prior to saving to suppress this warning.\n"
     ]
    },
    {
     "name": "stdout",
     "output_type": "stream",
     "text": [
      "Falciparum/img/1409171742-0001-R.jpg\n",
      "Falciparum/img/1409171742-0002-R.png\n"
     ]
    },
    {
     "name": "stderr",
     "output_type": "stream",
     "text": [
      "Lossy conversion from float64 to uint8. Range [0, 1]. Convert image to uint8 prior to saving to suppress this warning.\n"
     ]
    },
    {
     "name": "stdout",
     "output_type": "stream",
     "text": [
      "Falciparum/img/1409171742-0002-R.jpg\n",
      "Falciparum/img/1409171742-0003-R.png\n"
     ]
    },
    {
     "name": "stderr",
     "output_type": "stream",
     "text": [
      "Lossy conversion from float64 to uint8. Range [0, 1]. Convert image to uint8 prior to saving to suppress this warning.\n"
     ]
    },
    {
     "name": "stdout",
     "output_type": "stream",
     "text": [
      "Falciparum/img/1409171742-0003-R.jpg\n",
      "Falciparum/img/1409171742-0004-R.png\n"
     ]
    },
    {
     "name": "stderr",
     "output_type": "stream",
     "text": [
      "Lossy conversion from float64 to uint8. Range [0, 1]. Convert image to uint8 prior to saving to suppress this warning.\n"
     ]
    },
    {
     "name": "stdout",
     "output_type": "stream",
     "text": [
      "Falciparum/img/1409171742-0004-R.jpg\n",
      "Falciparum/img/1409171742-0005-R.png\n"
     ]
    },
    {
     "name": "stderr",
     "output_type": "stream",
     "text": [
      "Lossy conversion from float64 to uint8. Range [0, 1]. Convert image to uint8 prior to saving to suppress this warning.\n"
     ]
    },
    {
     "name": "stdout",
     "output_type": "stream",
     "text": [
      "Falciparum/img/1409171742-0005-R.jpg\n",
      "Falciparum/img/1409171742-0006-R.png\n"
     ]
    },
    {
     "name": "stderr",
     "output_type": "stream",
     "text": [
      "Lossy conversion from float64 to uint8. Range [0, 1]. Convert image to uint8 prior to saving to suppress this warning.\n"
     ]
    },
    {
     "name": "stdout",
     "output_type": "stream",
     "text": [
      "Falciparum/img/1409171742-0006-R.jpg\n",
      "Falciparum/img/1409171742-0007-R.png\n"
     ]
    },
    {
     "name": "stderr",
     "output_type": "stream",
     "text": [
      "Lossy conversion from float64 to uint8. Range [0, 1]. Convert image to uint8 prior to saving to suppress this warning.\n"
     ]
    },
    {
     "name": "stdout",
     "output_type": "stream",
     "text": [
      "Falciparum/img/1409171742-0007-R.jpg\n",
      "Falciparum/img/1409171742-0008-R.png\n"
     ]
    },
    {
     "name": "stderr",
     "output_type": "stream",
     "text": [
      "Lossy conversion from float64 to uint8. Range [0, 1]. Convert image to uint8 prior to saving to suppress this warning.\n"
     ]
    },
    {
     "name": "stdout",
     "output_type": "stream",
     "text": [
      "Falciparum/img/1409171742-0008-R.jpg\n",
      "Falciparum/img/1409171742-0009-R.png\n"
     ]
    },
    {
     "name": "stderr",
     "output_type": "stream",
     "text": [
      "Lossy conversion from float64 to uint8. Range [0, 1]. Convert image to uint8 prior to saving to suppress this warning.\n"
     ]
    },
    {
     "name": "stdout",
     "output_type": "stream",
     "text": [
      "Falciparum/img/1409171742-0009-R.jpg\n",
      "Falciparum/img/1409171742-0010-R.png\n"
     ]
    },
    {
     "name": "stderr",
     "output_type": "stream",
     "text": [
      "Lossy conversion from float64 to uint8. Range [0, 1]. Convert image to uint8 prior to saving to suppress this warning.\n"
     ]
    },
    {
     "name": "stdout",
     "output_type": "stream",
     "text": [
      "Falciparum/img/1409171742-0010-R.jpg\n",
      "Falciparum/img/1409191647-0001-R.png\n"
     ]
    },
    {
     "name": "stderr",
     "output_type": "stream",
     "text": [
      "Lossy conversion from float64 to uint8. Range [0, 1]. Convert image to uint8 prior to saving to suppress this warning.\n"
     ]
    },
    {
     "name": "stdout",
     "output_type": "stream",
     "text": [
      "Falciparum/img/1409191647-0001-R.jpg\n",
      "Falciparum/img/1409191647-0002-R.png\n"
     ]
    },
    {
     "name": "stderr",
     "output_type": "stream",
     "text": [
      "Lossy conversion from float64 to uint8. Range [0, 1]. Convert image to uint8 prior to saving to suppress this warning.\n"
     ]
    },
    {
     "name": "stdout",
     "output_type": "stream",
     "text": [
      "Falciparum/img/1409191647-0002-R.jpg\n",
      "Falciparum/img/1409191647-0003-R.png\n"
     ]
    },
    {
     "name": "stderr",
     "output_type": "stream",
     "text": [
      "Lossy conversion from float64 to uint8. Range [0, 1]. Convert image to uint8 prior to saving to suppress this warning.\n"
     ]
    },
    {
     "name": "stdout",
     "output_type": "stream",
     "text": [
      "Falciparum/img/1409191647-0003-R.jpg\n",
      "Falciparum/img/1409191647-0004-R.png\n"
     ]
    },
    {
     "name": "stderr",
     "output_type": "stream",
     "text": [
      "Lossy conversion from float64 to uint8. Range [0, 1]. Convert image to uint8 prior to saving to suppress this warning.\n"
     ]
    },
    {
     "name": "stdout",
     "output_type": "stream",
     "text": [
      "Falciparum/img/1409191647-0004-R.jpg\n",
      "Falciparum/img/1409191647-0005-R.png\n"
     ]
    },
    {
     "name": "stderr",
     "output_type": "stream",
     "text": [
      "Lossy conversion from float64 to uint8. Range [0, 1]. Convert image to uint8 prior to saving to suppress this warning.\n"
     ]
    },
    {
     "name": "stdout",
     "output_type": "stream",
     "text": [
      "Falciparum/img/1409191647-0005-R.jpg\n",
      "Falciparum/img/1409191647-0006-R.png\n"
     ]
    },
    {
     "name": "stderr",
     "output_type": "stream",
     "text": [
      "Lossy conversion from float64 to uint8. Range [0, 1]. Convert image to uint8 prior to saving to suppress this warning.\n"
     ]
    },
    {
     "name": "stdout",
     "output_type": "stream",
     "text": [
      "Falciparum/img/1409191647-0006-R.jpg\n",
      "Falciparum/img/1409191647-0007-R.png\n"
     ]
    },
    {
     "name": "stderr",
     "output_type": "stream",
     "text": [
      "Lossy conversion from float64 to uint8. Range [0, 1]. Convert image to uint8 prior to saving to suppress this warning.\n"
     ]
    },
    {
     "name": "stdout",
     "output_type": "stream",
     "text": [
      "Falciparum/img/1409191647-0007-R.jpg\n",
      "Falciparum/img/1409191647-0008-T.png\n"
     ]
    },
    {
     "name": "stderr",
     "output_type": "stream",
     "text": [
      "Lossy conversion from float64 to uint8. Range [0, 1]. Convert image to uint8 prior to saving to suppress this warning.\n"
     ]
    },
    {
     "name": "stdout",
     "output_type": "stream",
     "text": [
      "Falciparum/img/1409191647-0008-T.jpg\n",
      "Falciparum/img/1409191647-0009-R.png\n"
     ]
    },
    {
     "name": "stderr",
     "output_type": "stream",
     "text": [
      "Lossy conversion from float64 to uint8. Range [0, 1]. Convert image to uint8 prior to saving to suppress this warning.\n"
     ]
    },
    {
     "name": "stdout",
     "output_type": "stream",
     "text": [
      "Falciparum/img/1409191647-0009-R.jpg\n",
      "Falciparum/img/1409191647-0010-R.png\n"
     ]
    },
    {
     "name": "stderr",
     "output_type": "stream",
     "text": [
      "Lossy conversion from float64 to uint8. Range [0, 1]. Convert image to uint8 prior to saving to suppress this warning.\n"
     ]
    },
    {
     "name": "stdout",
     "output_type": "stream",
     "text": [
      "Falciparum/img/1409191647-0010-R.jpg\n",
      "Falciparum/img/1603223711-0001-T.tif\n"
     ]
    },
    {
     "name": "stderr",
     "output_type": "stream",
     "text": [
      "Lossy conversion from float64 to uint8. Range [0, 1]. Convert image to uint8 prior to saving to suppress this warning.\n"
     ]
    },
    {
     "name": "stdout",
     "output_type": "stream",
     "text": [
      "Falciparum/img/1603223711-0001-T.jpg\n",
      "Falciparum/img/1603223711-0002-T.tif\n"
     ]
    },
    {
     "name": "stderr",
     "output_type": "stream",
     "text": [
      "Lossy conversion from float64 to uint8. Range [0, 1]. Convert image to uint8 prior to saving to suppress this warning.\n"
     ]
    },
    {
     "name": "stdout",
     "output_type": "stream",
     "text": [
      "Falciparum/img/1603223711-0002-T.jpg\n",
      "Falciparum/img/1603223711-0003-T_R.tif\n"
     ]
    },
    {
     "name": "stderr",
     "output_type": "stream",
     "text": [
      "Lossy conversion from float64 to uint8. Range [0, 1]. Convert image to uint8 prior to saving to suppress this warning.\n"
     ]
    },
    {
     "name": "stdout",
     "output_type": "stream",
     "text": [
      "Falciparum/img/1603223711-0003-T_R.jpg\n",
      "Falciparum/img/1603223711-0004-R.tif\n"
     ]
    },
    {
     "name": "stderr",
     "output_type": "stream",
     "text": [
      "Lossy conversion from float64 to uint8. Range [0, 1]. Convert image to uint8 prior to saving to suppress this warning.\n"
     ]
    },
    {
     "name": "stdout",
     "output_type": "stream",
     "text": [
      "Falciparum/img/1603223711-0004-R.jpg\n",
      "Falciparum/img/1603223711-0005-T.tif\n"
     ]
    },
    {
     "name": "stderr",
     "output_type": "stream",
     "text": [
      "Lossy conversion from float64 to uint8. Range [0, 1]. Convert image to uint8 prior to saving to suppress this warning.\n"
     ]
    },
    {
     "name": "stdout",
     "output_type": "stream",
     "text": [
      "Falciparum/img/1603223711-0005-T.jpg\n",
      "Falciparum/img/1603223711-0006-T.tif\n"
     ]
    },
    {
     "name": "stderr",
     "output_type": "stream",
     "text": [
      "Lossy conversion from float64 to uint8. Range [0, 1]. Convert image to uint8 prior to saving to suppress this warning.\n"
     ]
    },
    {
     "name": "stdout",
     "output_type": "stream",
     "text": [
      "Falciparum/img/1603223711-0006-T.jpg\n",
      "Falciparum/img/1701151546-0001-R_T.tif\n"
     ]
    },
    {
     "name": "stderr",
     "output_type": "stream",
     "text": [
      "Lossy conversion from float64 to uint8. Range [0, 1]. Convert image to uint8 prior to saving to suppress this warning.\n"
     ]
    },
    {
     "name": "stdout",
     "output_type": "stream",
     "text": [
      "Falciparum/img/1701151546-0001-R_T.jpg\n",
      "Falciparum/img/1701151546-0002-R.tif\n"
     ]
    },
    {
     "name": "stderr",
     "output_type": "stream",
     "text": [
      "Lossy conversion from float64 to uint8. Range [0, 1]. Convert image to uint8 prior to saving to suppress this warning.\n"
     ]
    },
    {
     "name": "stdout",
     "output_type": "stream",
     "text": [
      "Falciparum/img/1701151546-0002-R.jpg\n",
      "Falciparum/img/1701151546-0003-R.tif\n"
     ]
    },
    {
     "name": "stderr",
     "output_type": "stream",
     "text": [
      "Lossy conversion from float64 to uint8. Range [0, 1]. Convert image to uint8 prior to saving to suppress this warning.\n"
     ]
    },
    {
     "name": "stdout",
     "output_type": "stream",
     "text": [
      "Falciparum/img/1701151546-0003-R.jpg\n",
      "Falciparum/img/1701151546-0004-R_T.tif\n"
     ]
    },
    {
     "name": "stderr",
     "output_type": "stream",
     "text": [
      "Lossy conversion from float64 to uint8. Range [0, 1]. Convert image to uint8 prior to saving to suppress this warning.\n"
     ]
    },
    {
     "name": "stdout",
     "output_type": "stream",
     "text": [
      "Falciparum/img/1701151546-0004-R_T.jpg\n",
      "Falciparum/img/1701151546-0005-R.tif\n"
     ]
    },
    {
     "name": "stderr",
     "output_type": "stream",
     "text": [
      "Lossy conversion from float64 to uint8. Range [0, 1]. Convert image to uint8 prior to saving to suppress this warning.\n"
     ]
    },
    {
     "name": "stdout",
     "output_type": "stream",
     "text": [
      "Falciparum/img/1701151546-0005-R.jpg\n",
      "Falciparum/img/1701151546-0006-R_T.tif\n"
     ]
    },
    {
     "name": "stderr",
     "output_type": "stream",
     "text": [
      "Lossy conversion from float64 to uint8. Range [0, 1]. Convert image to uint8 prior to saving to suppress this warning.\n"
     ]
    },
    {
     "name": "stdout",
     "output_type": "stream",
     "text": [
      "Falciparum/img/1701151546-0006-R_T.jpg\n",
      "Falciparum/img/1701151546-0007-R.tif\n"
     ]
    },
    {
     "name": "stderr",
     "output_type": "stream",
     "text": [
      "Lossy conversion from float64 to uint8. Range [0, 1]. Convert image to uint8 prior to saving to suppress this warning.\n"
     ]
    },
    {
     "name": "stdout",
     "output_type": "stream",
     "text": [
      "Falciparum/img/1701151546-0007-R.jpg\n",
      "Falciparum/img/1701151546-0008-R-T.tif\n"
     ]
    },
    {
     "name": "stderr",
     "output_type": "stream",
     "text": [
      "Lossy conversion from float64 to uint8. Range [0, 1]. Convert image to uint8 prior to saving to suppress this warning.\n"
     ]
    },
    {
     "name": "stdout",
     "output_type": "stream",
     "text": [
      "Falciparum/img/1701151546-0008-R-T.jpg\n",
      "Falciparum/img/1701151546-0009-R.tif\n"
     ]
    },
    {
     "name": "stderr",
     "output_type": "stream",
     "text": [
      "Lossy conversion from float64 to uint8. Range [0, 1]. Convert image to uint8 prior to saving to suppress this warning.\n"
     ]
    },
    {
     "name": "stdout",
     "output_type": "stream",
     "text": [
      "Falciparum/img/1701151546-0009-R.jpg\n",
      "Falciparum/img/1701151546-0010-R.tif\n"
     ]
    },
    {
     "name": "stderr",
     "output_type": "stream",
     "text": [
      "Lossy conversion from float64 to uint8. Range [0, 1]. Convert image to uint8 prior to saving to suppress this warning.\n"
     ]
    },
    {
     "name": "stdout",
     "output_type": "stream",
     "text": [
      "Falciparum/img/1701151546-0010-R.jpg\n",
      "Falciparum/img/1701151546-0011-R_T.tif\n"
     ]
    },
    {
     "name": "stderr",
     "output_type": "stream",
     "text": [
      "Lossy conversion from float64 to uint8. Range [0, 1]. Convert image to uint8 prior to saving to suppress this warning.\n"
     ]
    },
    {
     "name": "stdout",
     "output_type": "stream",
     "text": [
      "Falciparum/img/1701151546-0011-R_T.jpg\n",
      "Falciparum/img/1701151546-0012-R.tif\n"
     ]
    },
    {
     "name": "stderr",
     "output_type": "stream",
     "text": [
      "Lossy conversion from float64 to uint8. Range [0, 1]. Convert image to uint8 prior to saving to suppress this warning.\n"
     ]
    },
    {
     "name": "stdout",
     "output_type": "stream",
     "text": [
      "Falciparum/img/1701151546-0012-R.jpg\n",
      "Falciparum/img/1701151546-0013-R_T.tif\n"
     ]
    },
    {
     "name": "stderr",
     "output_type": "stream",
     "text": [
      "Lossy conversion from float64 to uint8. Range [0, 1]. Convert image to uint8 prior to saving to suppress this warning.\n"
     ]
    },
    {
     "name": "stdout",
     "output_type": "stream",
     "text": [
      "Falciparum/img/1701151546-0013-R_T.jpg\n",
      "Falciparum/img/1701151546-0014-R.tif\n"
     ]
    },
    {
     "name": "stderr",
     "output_type": "stream",
     "text": [
      "Lossy conversion from float64 to uint8. Range [0, 1]. Convert image to uint8 prior to saving to suppress this warning.\n"
     ]
    },
    {
     "name": "stdout",
     "output_type": "stream",
     "text": [
      "Falciparum/img/1701151546-0014-R.jpg\n",
      "Falciparum/img/1701151546-0015-R_T.tif\n"
     ]
    },
    {
     "name": "stderr",
     "output_type": "stream",
     "text": [
      "Lossy conversion from float64 to uint8. Range [0, 1]. Convert image to uint8 prior to saving to suppress this warning.\n"
     ]
    },
    {
     "name": "stdout",
     "output_type": "stream",
     "text": [
      "Falciparum/img/1701151546-0015-R_T.jpg\n",
      "Falciparum/img/1704282807-0001-R.tif\n"
     ]
    },
    {
     "name": "stderr",
     "output_type": "stream",
     "text": [
      "Lossy conversion from float64 to uint8. Range [0, 1]. Convert image to uint8 prior to saving to suppress this warning.\n"
     ]
    },
    {
     "name": "stdout",
     "output_type": "stream",
     "text": [
      "Falciparum/img/1704282807-0001-R.jpg\n",
      "Falciparum/img/1704282807-0002-R.tif\n"
     ]
    },
    {
     "name": "stderr",
     "output_type": "stream",
     "text": [
      "Lossy conversion from float64 to uint8. Range [0, 1]. Convert image to uint8 prior to saving to suppress this warning.\n"
     ]
    },
    {
     "name": "stdout",
     "output_type": "stream",
     "text": [
      "Falciparum/img/1704282807-0002-R.jpg\n",
      "Falciparum/img/1704282807-0003-R.tif\n"
     ]
    },
    {
     "name": "stderr",
     "output_type": "stream",
     "text": [
      "Lossy conversion from float64 to uint8. Range [0, 1]. Convert image to uint8 prior to saving to suppress this warning.\n"
     ]
    },
    {
     "name": "stdout",
     "output_type": "stream",
     "text": [
      "Falciparum/img/1704282807-0003-R.jpg\n",
      "Falciparum/img/1704282807-0004-R_T.tif\n"
     ]
    },
    {
     "name": "stderr",
     "output_type": "stream",
     "text": [
      "Lossy conversion from float64 to uint8. Range [0, 1]. Convert image to uint8 prior to saving to suppress this warning.\n"
     ]
    },
    {
     "name": "stdout",
     "output_type": "stream",
     "text": [
      "Falciparum/img/1704282807-0004-R_T.jpg\n",
      "Falciparum/img/1704282807-0005-R.tif\n"
     ]
    },
    {
     "name": "stderr",
     "output_type": "stream",
     "text": [
      "Lossy conversion from float64 to uint8. Range [0, 1]. Convert image to uint8 prior to saving to suppress this warning.\n"
     ]
    },
    {
     "name": "stdout",
     "output_type": "stream",
     "text": [
      "Falciparum/img/1704282807-0005-R.jpg\n",
      "Falciparum/img/1704282807-0006-R.tif\n"
     ]
    },
    {
     "name": "stderr",
     "output_type": "stream",
     "text": [
      "Lossy conversion from float64 to uint8. Range [0, 1]. Convert image to uint8 prior to saving to suppress this warning.\n"
     ]
    },
    {
     "name": "stdout",
     "output_type": "stream",
     "text": [
      "Falciparum/img/1704282807-0006-R.jpg\n",
      "Falciparum/img/1704282807-0007-R.tif\n"
     ]
    },
    {
     "name": "stderr",
     "output_type": "stream",
     "text": [
      "Lossy conversion from float64 to uint8. Range [0, 1]. Convert image to uint8 prior to saving to suppress this warning.\n"
     ]
    },
    {
     "name": "stdout",
     "output_type": "stream",
     "text": [
      "Falciparum/img/1704282807-0007-R.jpg\n",
      "Falciparum/img/1704282807-0008-R.tif\n"
     ]
    },
    {
     "name": "stderr",
     "output_type": "stream",
     "text": [
      "Lossy conversion from float64 to uint8. Range [0, 1]. Convert image to uint8 prior to saving to suppress this warning.\n"
     ]
    },
    {
     "name": "stdout",
     "output_type": "stream",
     "text": [
      "Falciparum/img/1704282807-0008-R.jpg\n",
      "Falciparum/img/1704282807-0009-R.tif\n"
     ]
    },
    {
     "name": "stderr",
     "output_type": "stream",
     "text": [
      "Lossy conversion from float64 to uint8. Range [0, 1]. Convert image to uint8 prior to saving to suppress this warning.\n"
     ]
    },
    {
     "name": "stdout",
     "output_type": "stream",
     "text": [
      "Falciparum/img/1704282807-0009-R.jpg\n",
      "Falciparum/img/1704282807-0010-R.tif\n"
     ]
    },
    {
     "name": "stderr",
     "output_type": "stream",
     "text": [
      "Lossy conversion from float64 to uint8. Range [0, 1]. Convert image to uint8 prior to saving to suppress this warning.\n"
     ]
    },
    {
     "name": "stdout",
     "output_type": "stream",
     "text": [
      "Falciparum/img/1704282807-0010-R.jpg\n",
      "Falciparum/img/1704282807-0011-R_T.tif\n"
     ]
    },
    {
     "name": "stderr",
     "output_type": "stream",
     "text": [
      "Lossy conversion from float64 to uint8. Range [0, 1]. Convert image to uint8 prior to saving to suppress this warning.\n"
     ]
    },
    {
     "name": "stdout",
     "output_type": "stream",
     "text": [
      "Falciparum/img/1704282807-0011-R_T.jpg\n",
      "Falciparum/img/1704282807-0012-R_T.tif\n"
     ]
    },
    {
     "name": "stderr",
     "output_type": "stream",
     "text": [
      "Lossy conversion from float64 to uint8. Range [0, 1]. Convert image to uint8 prior to saving to suppress this warning.\n"
     ]
    },
    {
     "name": "stdout",
     "output_type": "stream",
     "text": [
      "Falciparum/img/1704282807-0012-R_T.jpg\n",
      "Falciparum/img/1704282807-0013-R_T.tif\n"
     ]
    },
    {
     "name": "stderr",
     "output_type": "stream",
     "text": [
      "Lossy conversion from float64 to uint8. Range [0, 1]. Convert image to uint8 prior to saving to suppress this warning.\n"
     ]
    },
    {
     "name": "stdout",
     "output_type": "stream",
     "text": [
      "Falciparum/img/1704282807-0013-R_T.jpg\n",
      "Falciparum/img/1704282807-0014-R.tif\n"
     ]
    },
    {
     "name": "stderr",
     "output_type": "stream",
     "text": [
      "Lossy conversion from float64 to uint8. Range [0, 1]. Convert image to uint8 prior to saving to suppress this warning.\n"
     ]
    },
    {
     "name": "stdout",
     "output_type": "stream",
     "text": [
      "Falciparum/img/1704282807-0014-R.jpg\n",
      "Falciparum/img/1704282807-0015-R.tif\n"
     ]
    },
    {
     "name": "stderr",
     "output_type": "stream",
     "text": [
      "Lossy conversion from float64 to uint8. Range [0, 1]. Convert image to uint8 prior to saving to suppress this warning.\n"
     ]
    },
    {
     "name": "stdout",
     "output_type": "stream",
     "text": [
      "Falciparum/img/1704282807-0015-R.jpg\n",
      "Falciparum/img/1704282807-0016-R.tif\n"
     ]
    },
    {
     "name": "stderr",
     "output_type": "stream",
     "text": [
      "Lossy conversion from float64 to uint8. Range [0, 1]. Convert image to uint8 prior to saving to suppress this warning.\n"
     ]
    },
    {
     "name": "stdout",
     "output_type": "stream",
     "text": [
      "Falciparum/img/1704282807-0016-R.jpg\n",
      "Falciparum/img/1704282807-0017-R.tif\n"
     ]
    },
    {
     "name": "stderr",
     "output_type": "stream",
     "text": [
      "Lossy conversion from float64 to uint8. Range [0, 1]. Convert image to uint8 prior to saving to suppress this warning.\n"
     ]
    },
    {
     "name": "stdout",
     "output_type": "stream",
     "text": [
      "Falciparum/img/1704282807-0017-R.jpg\n",
      "Falciparum/img/1704282807-0018-R.tif\n"
     ]
    },
    {
     "name": "stderr",
     "output_type": "stream",
     "text": [
      "Lossy conversion from float64 to uint8. Range [0, 1]. Convert image to uint8 prior to saving to suppress this warning.\n"
     ]
    },
    {
     "name": "stdout",
     "output_type": "stream",
     "text": [
      "Falciparum/img/1704282807-0018-R.jpg\n",
      "Falciparum/img/1704282807-0019-R_T.tif\n"
     ]
    },
    {
     "name": "stderr",
     "output_type": "stream",
     "text": [
      "Lossy conversion from float64 to uint8. Range [0, 1]. Convert image to uint8 prior to saving to suppress this warning.\n"
     ]
    },
    {
     "name": "stdout",
     "output_type": "stream",
     "text": [
      "Falciparum/img/1704282807-0019-R_T.jpg\n",
      "Falciparum/img/1704282807-0020-R_T_S.tif\n"
     ]
    },
    {
     "name": "stderr",
     "output_type": "stream",
     "text": [
      "Lossy conversion from float64 to uint8. Range [0, 1]. Convert image to uint8 prior to saving to suppress this warning.\n"
     ]
    },
    {
     "name": "stdout",
     "output_type": "stream",
     "text": [
      "Falciparum/img/1704282807-0020-R_T_S.jpg\n",
      "Falciparum/img/1704282807-0021_R_T.tif\n"
     ]
    },
    {
     "name": "stderr",
     "output_type": "stream",
     "text": [
      "Lossy conversion from float64 to uint8. Range [0, 1]. Convert image to uint8 prior to saving to suppress this warning.\n"
     ]
    },
    {
     "name": "stdout",
     "output_type": "stream",
     "text": [
      "Falciparum/img/1704282807-0021_R_T.jpg\n"
     ]
    }
   ],
   "source": [
    "# resize image\n",
    "gts = glob.glob(\"Falciparum/gt/*\")\n",
    "\n",
    "for gt in gts:\n",
    "    print(gt)\n",
    "    img = imread(gt, plugin='pil')\n",
    "    new_img = resize(img,(1200,1600),anti_aliasing=True)\n",
    "    new_name = gt.split(\".\")[0] + \".jpg\"\n",
    "    imsave(new_name,new_img)\n",
    "    print(new_name)\n",
    "\n",
    "print(\"--------img start---------\") \n",
    "gts = glob.glob(\"Falciparum/img/*\")\n",
    "for gt in gts:\n",
    "    print(gt)\n",
    "    img = imread(gt, plugin='pil')\n",
    "    new_img = resize(img,(1200,1600),anti_aliasing=True)\n",
    "    new_name = gt.split(\".\")[0] + \".jpg\"\n",
    "    imsave(new_name,new_img)\n",
    "    print(new_name)"
   ]
  },
  {
   "cell_type": "code",
   "execution_count": 3,
   "metadata": {},
   "outputs": [
    {
     "name": "stdout",
     "output_type": "stream",
     "text": [
      "0000015250.jpg\n"
     ]
    },
    {
     "name": "stderr",
     "output_type": "stream",
     "text": [
      "Lossy conversion from float64 to uint8. Range [0, 1]. Convert image to uint8 prior to saving to suppress this warning.\n"
     ]
    }
   ],
   "source": [
    "typs = [\"Baso\",\"eosi\",\"lymp\",\"mixt\",\"mono\",\"neut\"]\n",
    "class_id = \"2\"\n",
    "count = 15250\n",
    "gts = glob.glob(\"Falciparum/gt/*.jpg\")\n",
    "main_img_pth = \"Falciparum/img/\"\n",
    "for gt in gts:\n",
    "    gt_image = gt.split(\"/\")[-1]\n",
    "    txt_name = \"{:010d}.txt\".format(int(count))\n",
    "    img_name = \"{:010d}.jpg\".format(int(count))\n",
    "    print(img_name)\n",
    "    img_main = imread(main_img_pth + gt_image)\n",
    "    new_img = resize(img_main,(1200,1600,3),anti_aliasing=True)\n",
    "    imsave(os.path.join(\"images/\",img_name),new_img)\n",
    "    img = imread(gt)\n",
    "    h, w = img.shape\n",
    "    thresh = threshold_otsu(img)\n",
    "    bw = img > thresh\n",
    "    label_image = label(bw)\n",
    "    result = \"\"\n",
    "    for region in regionprops(label_image):\n",
    "        minr, minc, maxr, maxc = region.bbox\n",
    "        x1 = minc / w\n",
    "        y1 = minr / h\n",
    "        bw = (maxc - minc) / w\n",
    "        bh = (maxr - minr) / h\n",
    "        xc = x1 + (bw / 2)\n",
    "        yc = y1 + (bh / 2)\n",
    "        result += \"\\n\" + class_id + \" \" + str(xc) + \" \" + str(yc) + \" \" + str(bw) + \" \" + str(bh) \n",
    "        f = open(\"labels/\" + txt_name,'w')\n",
    "        result = result[1:]\n",
    "        f.write(result)\n",
    "        f.close()\n",
    "        count += 1\n",
    "    break"
   ]
  },
  {
   "cell_type": "code",
   "execution_count": null,
   "metadata": {},
   "outputs": [],
   "source": [
    "count = 251\n",
    "files = glob.glob(\"labels/*.txt\")\n",
    "degs = [45,90,135,180,225,270,315]\n",
    "for file in files:\n",
    "    print(file)\n",
    "    f = open(file,\"r\")\n",
    "    lines = f.readlines()\n",
    "    f.close()\n",
    "    rects = []\n",
    "    img_name = file.split(\"/\")[1].replace(\".txt\",\".jpg\")\n",
    "    for line in lines:\n",
    "        class_id, xc, yc, bw, bh = line.split(\" \")\n",
    "        xc = float(xc)\n",
    "        yc = float(yc)\n",
    "        bw = float(bw)\n",
    "        bh = float(bh)\n",
    "        minx = (xc - (bw/2)) * 1600\n",
    "        miny = (yc - (bh/2)) * 1200\n",
    "        bw = bw * 1600\n",
    "        bh = bh * 1200\n",
    "        maxx = minx + bw\n",
    "        maxy = miny + bh\n",
    "        rects.append(BoundingBox(x1=int(minx),y1=int(miny),x2=int(maxx),y2=int(maxy),label=class_id))\n",
    "    img = Image.open(\"images/\"+img_name)\n",
    "    img = np.array(img)\n",
    "    bbs = BoundingBoxesOnImage(rects,shape=img.shape)\n",
    "    for deg in degs:\n",
    "        name = \"{:010d}\".format(count)\n",
    "        image_aug, bbs_aug = iaa.Affine(rotate=deg,mode=\"reflect\")(image=img, bounding_boxes=bbs)\n",
    "        aug_h, aug_w, aug_c = image_aug.shape\n",
    "        clip_off_bbs = bbs_aug.remove_out_of_image(fully=True,partly=False).clip_out_of_image()\n",
    "        bboxs = \"\"\n",
    "        for bb in clip_off_bbs.bounding_boxes:\n",
    "            x1 = bb.x1\n",
    "            y1 = bb.y1\n",
    "            x2 = bb.x2\n",
    "            y2 = bb.y2\n",
    "            bb_w = (x2-x1)/aug_w\n",
    "            bb_h = (y2-y1)/aug_h\n",
    "            bb_xc = (x1/aug_w) + (bb_w/2)\n",
    "            bb_yc = (y1/aug_h) + (bb_h/2)\n",
    "            bboxs += \"\\n\"+ str(bb.label) + \" \" + str(bb_xc) + \" \" + str(bb_yc) + \" \" + str(bb_w) + \" \" + str(bb_h)\n",
    "            bboxs = bboxs[1:]\n",
    "            im_aug = Image.fromarray(image_aug)\n",
    "            im_aug.save(os.path.join('images',name+\".jpg\"))\n",
    "            f = open(os.path.join('labels',name+\".txt\"),'w')\n",
    "            f.write(bboxs)\n",
    "            f.close()\n",
    "            print(\"{} {}\".format(count,deg))\n",
    "            count += 1"
   ]
  },
  {
   "cell_type": "code",
   "execution_count": null,
   "metadata": {},
   "outputs": [],
   "source": []
  }
 ],
 "metadata": {
  "kernelspec": {
   "display_name": "pytorch_env",
   "language": "python",
   "name": "pytorch_env"
  },
  "language_info": {
   "codemirror_mode": {
    "name": "ipython",
    "version": 3
   },
   "file_extension": ".py",
   "mimetype": "text/x-python",
   "name": "python",
   "nbconvert_exporter": "python",
   "pygments_lexer": "ipython3",
   "version": "3.7.3"
  }
 },
 "nbformat": 4,
 "nbformat_minor": 2
}
